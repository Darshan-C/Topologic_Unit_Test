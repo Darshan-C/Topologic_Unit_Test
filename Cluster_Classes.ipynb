{
 "cells": [
  {
   "cell_type": "code",
   "execution_count": null,
   "metadata": {},
   "outputs": [],
   "source": [
    "\"\"\"\n",
    "Note : Error in CellComplexes \n",
    "\n",
    "\"\"\""
   ]
  },
  {
   "cell_type": "code",
   "execution_count": 2,
   "metadata": {},
   "outputs": [],
   "source": [
    "import topologicpy\n",
    "import topologic\n",
    "from topologicpy.Vertex import Vertex\n",
    "from topologicpy.Edge import Edge\n",
    "from topologicpy.Wire import Wire\n",
    "from topologicpy.Face import Face\n",
    "from topologicpy.Cell import Cell\n",
    "from topologicpy.Shell import Shell\n",
    "from topologicpy.CellComplex import CellComplex\n",
    "from topologicpy.Cluster import Cluster"
   ]
  },
  {
   "cell_type": "code",
   "execution_count": 3,
   "metadata": {},
   "outputs": [],
   "source": [
    "# creating vertex\n",
    "v0 = Vertex.ByCoordinates(0, 0, 0)\n",
    "v1 = Vertex.ByCoordinates(-2, 2, 0)\n",
    "v2 = Vertex.ByCoordinates(-2, -2, 0)\n",
    "v3 = Vertex.ByCoordinates(2, -2, 0)\n",
    "v4 = Vertex.ByCoordinates(2, 2, 0)\n",
    "\n",
    "v9 = Vertex.ByCoordinates(-1.8, 10.3, 17)\n",
    "v10 = Vertex.ByCoordinates(-1.8, -4.33, 17)\n",
    "v11 = Vertex.ByCoordinates(9.3, 9.4, 4.6)\n",
    "v12 = Vertex.ByCoordinates(9.3, -5.3, 4.6)\n",
    "v13 = Vertex.ByCoordinates(23.4, 14.3, 0)\n",
    "v14 = Vertex.ByCoordinates(23.4, 14.3, 0)\n",
    "\n",
    "# creating edges\n",
    "e1 = Edge.ByVertices([v1,v2])\n",
    "e2 = Edge.ByVertices([v2,v3])\n",
    "e3 = Edge.ByVertices([v3,v4])\n",
    "e4 = Edge.ByVertices([v4, v1])\n",
    "\n",
    "# creating Wire\n",
    "w1 = Wire.ByEdges([e1, e2, e3, e4])\n",
    "w2 = Wire.ByVertices([v0, v4, v1, v3])\n",
    "w3 = Wire.Ellipse(v0, 3, 2, 5)\n",
    "\n",
    "# creating faces\n",
    "f1 = Face.Rectangle(v0, 5, 10)\n",
    "f2 = Face.Circle(v0, 2, 16)\n",
    "f3 = Face.Vertices([v1, v2, v3])\n",
    "\n",
    "fV1 = Face.ByVertices([v9, v10, v11, v12])\n",
    "fV2 = Face.ByVertices([v11, v12, v13, v14])\n",
    "fV3 = Face.ByVertices([v13, v14, v9, v10])\n",
    "\n",
    "# creating shell\n",
    "sh1 = Shell.ByFaces([fV1, fV2, fV3])\n",
    "sh2 = Shell.Circle(v11, 1, 16, dirX=1, dirZ=0)\n",
    "\n",
    "# creating cellcomplex\n",
    "cc1 = CellComplex.Box(v0, 1.5, 1.5, 3)\n",
    "cc2 = CellComplex.Prism(v1, 2, 3, 5)\n",
    "cc3 = CellComplex.Box(v3, 3, 3, 3)\n",
    "cc4 = CellComplex.Prism(v9, 1, 2, 4)"
   ]
  },
  {
   "cell_type": "code",
   "execution_count": 4,
   "metadata": {},
   "outputs": [],
   "source": [
    "# Case 1 - ByTopologies\n",
    "\n",
    "# test 1\n",
    "cT1 = Cluster.ByTopologies([v0, e1, v1, e2, w1, f1, sh1, cc1])\n",
    "assert isinstance(cT1, topologic.Cluster), \"Cluster.ByTopologies. Should be topologic.Cluster\"\n",
    "\n",
    "# test 2\n",
    "cT2 = Cluster.ByTopologies([v10, e2, v14, e3, fV2, cc2, sh1, cc1])\n",
    "assert isinstance(cT2, topologic.Cluster), \"Cluster.ByTopologies. Should be topologic.Cluster\"\n",
    "\n",
    "# test 3\n",
    "cT3 = Cluster.ByTopologies([cc1, sh1, w1, e1, v4, cc4])\n",
    "assert isinstance(cT3, topologic.Cluster), \"Cluster.ByTopologies. Should be topologic.Cluster\"\n",
    "\n",
    "# test 4\n",
    "cT4 = Cluster.ByTopologies([sh2, v12, cc4, f3])\n",
    "assert isinstance(cT4, topologic.Cluster), \"Cluster.ByTopologies. Should be topologic.Cluster\""
   ]
  },
  {
   "cell_type": "code",
   "execution_count": 14,
   "metadata": {},
   "outputs": [
    {
     "name": "stdout",
     "output_type": "stream",
     "text": [
      "[<topologic.Cell object at 0x000001A7EE6B6230>, <topologic.Cell object at 0x000001A7EE6B61B0>, <topologic.Cell object at 0x000001A7EE6B61F0>, <topologic.Cell object at 0x000001A7EE6B6130>, <topologic.Cell object at 0x000001A7EE6B63B0>, <topologic.Cell object at 0x000001A7EE6B6430>, <topologic.Cell object at 0x000001A7EE6B6470>, <topologic.Cell object at 0x000001A7EE6B64B0>]\n"
     ]
    }
   ],
   "source": [
    "# Case 2 - CellComplexes\n",
    "\"\"\"\n",
    "\n",
    "Error!!!\n",
    "\n",
    "creating list of topologic.Cell instead of list of topologic.CellComplex\n",
    "\n",
    "\"\"\" \n",
    "\n",
    "# test 1\n",
    "cCC1 = Cluster.CellComplexes(cT1)\n",
    "assert isinstance(cCC1, list), \"Cluster.CellComplexes. Should be list\"\n",
    "\n",
    "# test 2\n",
    "cCC2 = Cluster.CellComplexes(cT3)\n",
    "assert isinstance(cCC2, list), \"Cluster.CellComplexes. Should be list\"\n",
    "\n",
    "print(cCC1)"
   ]
  },
  {
   "cell_type": "code",
   "execution_count": 6,
   "metadata": {},
   "outputs": [
    {
     "name": "stdout",
     "output_type": "stream",
     "text": [
      "[<topologic.Cell object at 0x000001A7EE6925F0>, <topologic.Cell object at 0x000001A7EE6920F0>, <topologic.Cell object at 0x000001A7EE6928B0>, <topologic.Cell object at 0x000001A7EE694F30>, <topologic.Cell object at 0x000001A7EE694A30>, <topologic.Cell object at 0x000001A7EE6940F0>, <topologic.Cell object at 0x000001A7EE694730>, <topologic.Cell object at 0x000001A7EE6947B0>]\n"
     ]
    }
   ],
   "source": [
    "# Case 3 - Cells\n",
    "\n",
    "# test 1\n",
    "cC1 = Cluster.Cells(cT1)\n",
    "assert isinstance(cC1, list), \"Cluster.CellComplexes. Should be list\"\n",
    "print(cC1)\n",
    "\n",
    "# test 2\n",
    "cC2 = Cluster.Cells(cT3)\n",
    "assert isinstance(cC2, list), \"Cluster.CellComplexes. Should be list\""
   ]
  },
  {
   "cell_type": "code",
   "execution_count": 7,
   "metadata": {},
   "outputs": [],
   "source": [
    "# Case 4 - Edges\n",
    "\n",
    "# test 1\n",
    "cE1 = Cluster.Edges(cT1)\n",
    "assert isinstance(cE1, list), \"Cluster.Edges. Should be list\"\n",
    "\n",
    "# test 2\n",
    "cE2 = Cluster.Edges(cT2)\n",
    "assert isinstance(cE2, list), \"Cluster.Edges. Should be list\""
   ]
  },
  {
   "cell_type": "code",
   "execution_count": 8,
   "metadata": {},
   "outputs": [],
   "source": [
    "# Case 5 - Faces\n",
    "\n",
    "# test 1\n",
    "cF1 = Cluster.Faces(cT3)\n",
    "assert isinstance(cF1, list), \"Cluster.Faces. Should be list\"\n",
    "\n",
    "# test 2\n",
    "cF2 = Cluster.Faces(cT1)\n",
    "assert isinstance(cF2, list), \"Cluster.Faces. Should be list\""
   ]
  },
  {
   "cell_type": "code",
   "execution_count": 9,
   "metadata": {},
   "outputs": [],
   "source": [
    "# Case 6 - MysticRose\n",
    "\n",
    "# test 1\n",
    "cMys1 = Cluster.MysticRose(w1, v0, 2, 16)\n",
    "assert isinstance(cMys1, topologic.Cluster), \"Cluster.MysticRose. Should be topologic.Cluster\"\n",
    "\n",
    "cMys2 = Cluster.MysticRose(w3, v10, 1.6, 8, dirX=1, dirY=1, dirZ=0)\n",
    "assert isinstance(cMys2, topologic.Cluster), \"Cluster.MysticRose. Should be topologic.Cluster\""
   ]
  },
  {
   "cell_type": "code",
   "execution_count": 10,
   "metadata": {},
   "outputs": [],
   "source": [
    "# Case 7 - Shells\n",
    "\n",
    "# test 1\n",
    "cS1 = Cluster.Shells(cT2)\n",
    "assert isinstance(cS1, list), \"Cluster.Shells. Should be list\"\n",
    "\n",
    "# test 2\n",
    "cS2 =Cluster.Shells(cT4)\n",
    "assert isinstance(cS2, list), \"Cluster.Shells. Should be list\"\n"
   ]
  },
  {
   "cell_type": "code",
   "execution_count": 11,
   "metadata": {},
   "outputs": [],
   "source": [
    "# Case 8 - Vertices\n",
    "\n",
    "# test 1\n",
    "cV1 = Cluster.Vertices(cT1)\n",
    "assert isinstance(cV1, list), \"Cluster.Vertices. Should be list\"\n",
    "\n",
    "# test 2\n",
    "cV2 = Cluster.Vertices(cT3)\n",
    "assert isinstance(cV2, list), \"Cluster.Vertices. Should be list\"\n"
   ]
  },
  {
   "cell_type": "code",
   "execution_count": 12,
   "metadata": {},
   "outputs": [],
   "source": [
    "# Case 9 - Wires\n",
    "\n",
    "# test 1\n",
    "cW1 = Cluster.Wires(cT3)\n",
    "assert isinstance(cW1, list), \"Cluster.Wires. Should be list\"\n",
    "\n",
    "# test 2\n",
    "cW2 = Cluster.Wires(cT2)\n",
    "assert isinstance(cW2, list), \"Cluster.Wires. Should be list\""
   ]
  }
 ],
 "metadata": {
  "kernelspec": {
   "display_name": "base",
   "language": "python",
   "name": "python3"
  },
  "language_info": {
   "codemirror_mode": {
    "name": "ipython",
    "version": 3
   },
   "file_extension": ".py",
   "mimetype": "text/x-python",
   "name": "python",
   "nbconvert_exporter": "python",
   "pygments_lexer": "ipython3",
   "version": "3.8.8 (default, Apr 13 2021, 15:08:03) [MSC v.1916 64 bit (AMD64)]"
  },
  "orig_nbformat": 4,
  "vscode": {
   "interpreter": {
    "hash": "d5b2151f520895d96024011eb601ad3676c0bf65eeb3027d60d487339ca76817"
   }
  }
 },
 "nbformat": 4,
 "nbformat_minor": 2
}
