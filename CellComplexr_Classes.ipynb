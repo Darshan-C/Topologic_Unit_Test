{
 "cells": [
  {
   "cell_type": "code",
   "execution_count": 62,
   "metadata": {},
   "outputs": [],
   "source": [
    "import topologicpy\n",
    "import topologic\n",
    "from topologicpy.Vertex import Vertex\n",
    "from topologicpy.Wire import Wire\n",
    "from topologicpy.Face import Face\n",
    "from topologicpy.Cell import Cell\n",
    "from topologicpy.CellComplex import CellComplex\n",
    "from topologicpy.Cluster import Cluster"
   ]
  },
  {
   "cell_type": "code",
   "execution_count": 50,
   "metadata": {},
   "outputs": [],
   "source": [
    "v0 = Vertex.ByCoordinates(3, 3, 0)\n",
    "\n",
    "# Creating vertices for box\n",
    "#face 1\n",
    "v1 = Vertex.ByCoordinates(-2, 2, 0)\n",
    "v2 = Vertex.ByCoordinates(-2, -2, 0)\n",
    "v3 = Vertex.ByCoordinates(2, -2, 0)\n",
    "v4 = Vertex.ByCoordinates(2, 2, 0)\n",
    "\n",
    "# face 2\n",
    "vr1 = Vertex.ByCoordinates(2, -2, 0)\n",
    "vr2 = Vertex.ByCoordinates(2, 2, 0)\n",
    "vr3 = Vertex.ByCoordinates(2, 2, 4)\n",
    "vr4 = Vertex.ByCoordinates(2, -2, 4)\n",
    "\n",
    "# face 3\n",
    "vt1 = Vertex.ByCoordinates(2, 2, 4)\n",
    "vt2 = Vertex.ByCoordinates(2, -2, 4)\n",
    "vt3 = Vertex.ByCoordinates(-2, -2, 4)\n",
    "vt4 = Vertex.ByCoordinates(-2, 2, 4)\n",
    "\n",
    "#face4\n",
    "vl1 = Vertex.ByCoordinates(-2, -2, 4)\n",
    "vl2 = Vertex.ByCoordinates(-2, 2, 4)\n",
    "vl3 = Vertex.ByCoordinates(-2, 2, 0)\n",
    "vl4 = Vertex.ByCoordinates(-2, -2, 0)\n",
    "\n",
    "# box surfaces\n",
    "boxf1 = Face.ByVertices([v1, v2, v3, v4])\n",
    "boxRf2 = Face.ByVertices([vr1, vr2, vr3, vr4])\n",
    "boxTf3 = Face.ByVertices([vt1, vt2, vt3, vt4])\n",
    "boxLf4 = Face.ByVertices([vl1, vl2, vl3, vl4])\n",
    "\n",
    "# cone surfaces \n",
    "cV = Vertex.ByCoordinates(0,0,4)\n",
    "ConeS1 = Face.ByVertices([v1, cV, v2])\n",
    "ConeS2 = Face.ByVertices([v2, cV, vr1])\n",
    "ConeS3 = Face.ByVertices([vr1, cV, vr2])\n",
    "ConeS4 = Face.ByVertices([vr2,cV, v1])\n",
    "\n",
    "# box by wire\n",
    "\n",
    "boxW1 = Wire.ByVertices([v1, v2, v3, v4])\n",
    "boxW2 = Wire.ByVertices([vr1, vr2, vr3, vr4])\n",
    "boxW3 = Wire.ByVertices([vt1, vt2, vt3, vt4])\n",
    "boxW4 = Wire.ByVertices([vl1, vl2, vl3, vl4])"
   ]
  },
  {
   "cell_type": "code",
   "execution_count": 16,
   "metadata": {},
   "outputs": [],
   "source": [
    "# def Box (origin=None, width=1, length=1, height=1, uSides=2, vSides=2, wSides=2, dirX=0, dirY=0, dirZ=1, placement='center')\n",
    "\n",
    "#case 1\n",
    "box1 = CellComplex.Box(v0, 3, 3, 3 , 4, 4, 4)\n",
    "assert isinstance(box1, topologic.CellComplex), \"CellComplex.Box. Should be topologic.CellComplex\"\n",
    "\n",
    "box2 = CellComplex.Box(v1, width= 3.4, length=5.6, height=7.8, uSides=3, vSides=4, wSides=6, dirX=1, dirY=0, dirZ=0, placement= 'lowerleft')\n",
    "assert isinstance(box2, topologic.CellComplex), \"CellComplex.Box. Should be topologic.CellComplex\""
   ]
  },
  {
   "cell_type": "code",
   "execution_count": 5,
   "metadata": {},
   "outputs": [],
   "source": [
    "# def ByCells(cells, tolerance=0.0001)"
   ]
  },
  {
   "cell_type": "code",
   "execution_count": 6,
   "metadata": {},
   "outputs": [],
   "source": [
    "# def ByCellsCluster(cluster, tolerance=0.0001)"
   ]
  },
  {
   "cell_type": "code",
   "execution_count": 32,
   "metadata": {},
   "outputs": [],
   "source": [
    "# def ByFaces(faces, tolerance=0.0001)\n",
    "\n",
    "cube1 = CellComplex.ByFaces([boxf1, boxRf2, boxTf3, boxLf4])\n",
    "assert isinstance(cube1, topologic.CellComplex), \"CellComplex.ByFaces, Should be topologic.CellComplex\"\n",
    "\n",
    "cone1 = CellComplex.ByFaces([ConeS1, ConeS2, ConeS3, ConeS4])\n",
    "assert isinstance(cone1, topologic.CellComplex), \"CellComplex.ByFaces, Should be topologic.CellComplex\""
   ]
  },
  {
   "cell_type": "code",
   "execution_count": 41,
   "metadata": {},
   "outputs": [],
   "source": [
    "# def ByFacesCluster(cluster, tolerance=0.0001)\n",
    "\n",
    "fc1 = Cluster.ByTopologies([boxf1, boxRf2, boxTf3, boxLf4])\n",
    "fc2 = Cluster.ByTopologies([ConeS1, ConeS2, ConeS3, ConeS4])\n",
    "\n",
    "# case 1\n",
    "cubeC1 = CellComplex.ByFacesCluster(fc1, 0.1)\n",
    "assert isinstance(cubeC1, topologic.CellComplex), \"CellComplex.ByFacesCluster. Should be topologic.CellComplex\"\n",
    "\n",
    "# case 2\n",
    "coneC1 = CellComplex.ByFacesCluster(fc2, 0.01)\n",
    "assert isinstance(coneC1, topologic.CellComplex), \"CellComplex.ByFacesCluster. Should be topologic.CellComplex\""
   ]
  },
  {
   "cell_type": "code",
   "execution_count": 56,
   "metadata": {},
   "outputs": [
    {
     "name": "stdout",
     "output_type": "stream",
     "text": [
      "<topologic.CellComplex object at 0x000002232B5254B0>\n"
     ]
    }
   ],
   "source": [
    "# def ByWires(wires, triangulate=True, tolerance=0.0001)\n",
    "\"\"\"Not sure\"\"\"\n",
    "\n",
    "# Wire should be a list\n",
    "CubeW = CellComplex.ByWires([boxW1], True, 0.0001)\n",
    "print(CubeW)"
   ]
  },
  {
   "cell_type": "code",
   "execution_count": 57,
   "metadata": {},
   "outputs": [],
   "source": [
    "# def ByWiresCluster(cluster, triangulate=True, tolerance=0.0001)"
   ]
  },
  {
   "cell_type": "code",
   "execution_count": 71,
   "metadata": {},
   "outputs": [],
   "source": [
    "# def Cells(cellComplex)\n",
    "\n",
    "# case 1\n",
    "bC1 = CellComplex.Cells(box1)\n",
    "assert isinstance(bC1, list), \"CellComplex.Cells. Should be list\"\n",
    "\n",
    "#case 2\n",
    " \n",
    "bC2 = CellComplex.Cells(box2)\n",
    "assert isinstance(bC2, list), \"CellComplex.Cells. Should be list\"\n"
   ]
  },
  {
   "cell_type": "code",
   "execution_count": 72,
   "metadata": {},
   "outputs": [],
   "source": [
    "# def Decompose(cellComplex, tiltAngle=10, tolerance=0.0001)"
   ]
  },
  {
   "cell_type": "code",
   "execution_count": 77,
   "metadata": {},
   "outputs": [],
   "source": [
    "# def Edges(cellComplex)\n",
    "\n",
    "# case 1\n",
    "bE1 = CellComplex.Edges(box1)\n",
    "assert isinstance(bE1, list), \"CellComplex.Edges. Should be list\"\n",
    "\n",
    "# case 2\n",
    "bE2 = CellComplex.Edges(box2)\n",
    "assert isinstance(bE2, list), \"CellComplex.Edges. Should be list\""
   ]
  },
  {
   "cell_type": "code",
   "execution_count": 117,
   "metadata": {},
   "outputs": [],
   "source": [
    "# def ExternalBoundary(cellComplex)\n",
    "\"\"\"Not sure\"\"\"\n",
    "\n",
    "# case 1\n",
    "bEB1 = CellComplex.ExternalBoundary(box1)\n",
    "assert isinstance(bEB1, topologic.Cell), \"CellComplex.ExternalBoundary. Should be topologic.Cell\"\n",
    "\n",
    "# case 2\n",
    "bEB2 = CellComplex.ExternalBoundary(box2)\n",
    "assert isinstance(bEB2, topologic.Cell), \"CellComplex.ExternalBoundary. Should be topologic.Cell\"\n"
   ]
  },
  {
   "cell_type": "code",
   "execution_count": 87,
   "metadata": {},
   "outputs": [],
   "source": [
    "# def Faces(cellComplex)\n",
    "\"\"\"Not sure\"\"\"\n",
    "\n",
    "# case 1\n",
    "bF1 = CellComplex.Faces(box1)\n",
    "assert isinstance(bF1, list), \"CellComplex.Faces. Should be list\"\n",
    "\n",
    "#case 2\n",
    "bF2 = CellComplex.Faces(box2)\n",
    "assert isinstance(bF2, list), \"CellComplex.Faces. Should be list\""
   ]
  },
  {
   "cell_type": "code",
   "execution_count": 88,
   "metadata": {},
   "outputs": [],
   "source": [
    "# def InternalBoundary(cellComplex)"
   ]
  },
  {
   "cell_type": "code",
   "execution_count": 89,
   "metadata": {},
   "outputs": [],
   "source": [
    "# def NonManifoldFaces(cellComplex)"
   ]
  },
  {
   "cell_type": "code",
   "execution_count": 95,
   "metadata": {},
   "outputs": [],
   "source": [
    "# def Prism(origin=None, width=1, length=1, height=1, uSides=2, vSides=2, wSides=2, dirX=0, dirY=0, dirZ=1, placement='center')\n",
    "\n",
    "# case 1\n",
    "p1 = CellComplex.Prism(v1, 2, 5, 6, 3, 3)\n",
    "assert isinstance(p1, topologic.CellComplex), \"CellComplex.Prism, Should be topologic.CellComplex\"\n",
    "# case 2\n",
    "p2 = CellComplex.Prism(v1, width=4.9, length= 8, height= 10, uSides=3, vSides=3, wSides=6, dirX=1, dirY=1, dirZ=0, placement='lowerleft')\n",
    "assert isinstance(p2, topologic.CellComplex), \"CellComplex.Prism, Should be topologic.CellComplex\""
   ]
  },
  {
   "cell_type": "code",
   "execution_count": 103,
   "metadata": {},
   "outputs": [],
   "source": [
    "# def Shells(cellComplex)\n",
    "\n",
    "# case 1\n",
    "bS1 = CellComplex.Shells(box1)\n",
    "assert isinstance(bS1, list), \"CellComplex.Shells. Should be list\"\n",
    "\n",
    "# case 2\n",
    "bS2 = CellComplex.Shells(box2)\n",
    "assert isinstance(bS2, list), \"CellComplex.Shells. Should be list\""
   ]
  },
  {
   "cell_type": "code",
   "execution_count": 106,
   "metadata": {},
   "outputs": [],
   "source": [
    "# def Vertices(cellComplex)\n",
    "\n",
    "# case 1\n",
    "bV1 = CellComplex.Vertices(box1)\n",
    "assert isinstance(bV1, list), \"CellComplex.Shells. Should be list\"\n",
    "\n",
    "# case 2\n",
    "bV2 = CellComplex.Vertices(box2)\n",
    "assert isinstance(bV2, list), \"CellComplex.Shells. Should be list\""
   ]
  },
  {
   "cell_type": "code",
   "execution_count": 115,
   "metadata": {},
   "outputs": [
    {
     "name": "stdout",
     "output_type": "stream",
     "text": [
      "<topologic.Wire object at 0x000002232E5117B0>\n"
     ]
    }
   ],
   "source": [
    "# def Wires(cellComplex)\n",
    "\n",
    "# case 1\n",
    "bW1 = CellComplex.Wires(box1)\n",
    "assert isinstance(bW1, list), \"CellComplex.Shells. Should be list\"\n",
    "\n",
    "# case 2\n",
    "bW2 = CellComplex.Wires(box2)\n",
    "assert isinstance(bW2, list), \"CellComplex.Shells. Should be list\"\n"
   ]
  },
  {
   "cell_type": "code",
   "execution_count": null,
   "metadata": {},
   "outputs": [],
   "source": []
  }
 ],
 "metadata": {
  "kernelspec": {
   "display_name": "base",
   "language": "python",
   "name": "python3"
  },
  "language_info": {
   "codemirror_mode": {
    "name": "ipython",
    "version": 3
   },
   "file_extension": ".py",
   "mimetype": "text/x-python",
   "name": "python",
   "nbconvert_exporter": "python",
   "pygments_lexer": "ipython3",
   "version": "3.8.8"
  },
  "orig_nbformat": 4,
  "vscode": {
   "interpreter": {
    "hash": "d5b2151f520895d96024011eb601ad3676c0bf65eeb3027d60d487339ca76817"
   }
  }
 },
 "nbformat": 4,
 "nbformat_minor": 2
}
