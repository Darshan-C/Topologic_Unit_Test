{
 "cells": [
  {
   "cell_type": "code",
   "execution_count": null,
   "metadata": {},
   "outputs": [],
   "source": [
    "\"\"\"\n",
    "Note : ByCells, ByWires, ByWiresCluster, Decompose, NonManifoldFaces need attention.\n",
    "\n",
    "\"\"\""
   ]
  },
  {
   "cell_type": "code",
   "execution_count": 84,
   "metadata": {},
   "outputs": [],
   "source": [
    "import topologicpy\n",
    "import topologic\n",
    "from topologicpy.Vertex import Vertex\n",
    "from topologicpy.Wire import Wire\n",
    "from topologicpy.Face import Face\n",
    "from topologicpy.Cell import Cell\n",
    "from topologicpy.CellComplex import CellComplex\n",
    "from topologicpy.Cluster import Cluster\n",
    "from topologicpy.Topology import Topology"
   ]
  },
  {
   "cell_type": "code",
   "execution_count": 85,
   "metadata": {},
   "outputs": [],
   "source": [
    "v0 = Vertex.ByCoordinates(3, 3, 0)\n",
    "v5 = Vertex.ByCoordinates(-1.8, 10.3, 17)\n",
    "v6 = Vertex.ByCoordinates(-1.8, -4.33, 17)\n",
    "v7 = Vertex.ByCoordinates(9.3, 9.4, 4.6)\n",
    "v8 = Vertex.ByCoordinates(9.3, -5.3, 4.6)\n",
    "v9 = Vertex.ByCoordinates(23.4, 14.3, 0)\n",
    "v10 = Vertex.ByCoordinates(23.4, 14.3, 0)\n",
    "\n",
    "# Creating vertices for box\n",
    "#face 1\n",
    "v1 = Vertex.ByCoordinates(-2, 2, 0)\n",
    "v2 = Vertex.ByCoordinates(-2, -2, 0)\n",
    "v3 = Vertex.ByCoordinates(2, -2, 0)\n",
    "v4 = Vertex.ByCoordinates(2, 2, 0)\n",
    "\n",
    "# face 2\n",
    "vr1 = Vertex.ByCoordinates(2, -2, 0)\n",
    "vr2 = Vertex.ByCoordinates(2, 2, 0)\n",
    "vr3 = Vertex.ByCoordinates(2, 2, 4)\n",
    "vr4 = Vertex.ByCoordinates(2, -2, 4)\n",
    "\n",
    "# face 3\n",
    "vt1 = Vertex.ByCoordinates(2, 2, 4)\n",
    "vt2 = Vertex.ByCoordinates(2, -2, 4)\n",
    "vt3 = Vertex.ByCoordinates(-2, -2, 4)\n",
    "vt4 = Vertex.ByCoordinates(-2, 2, 4)\n",
    "\n",
    "#face4\n",
    "vl1 = Vertex.ByCoordinates(-2, -2, 4)\n",
    "vl2 = Vertex.ByCoordinates(-2, 2, 4)\n",
    "vl3 = Vertex.ByCoordinates(-2, 2, 0)\n",
    "vl4 = Vertex.ByCoordinates(-2, -2, 0)\n",
    "\n",
    "# box surfaces\n",
    "boxf1 = Face.ByVertices([v1, v2, v3, v4])\n",
    "boxRf2 = Face.ByVertices([vr1, vr2, vr3, vr4])\n",
    "boxTf3 = Face.ByVertices([vt1, vt2, vt3, vt4])\n",
    "boxLf4 = Face.ByVertices([vl1, vl2, vl3, vl4])\n",
    "\n",
    "# cone surfaces \n",
    "cV = Vertex.ByCoordinates(0,0,4)\n",
    "ConeS1 = Face.ByVertices([v1, cV, v2])\n",
    "ConeS2 = Face.ByVertices([v2, cV, vr1])\n",
    "ConeS3 = Face.ByVertices([vr1, cV, vr2])\n",
    "ConeS4 = Face.ByVertices([vr2,cV, v1])\n",
    "\n",
    "# box by wire\n",
    "\n",
    "boxW1 = Wire.ByVertices([v1, v2, v3, v4])\n",
    "boxW2 = Wire.ByVertices([vr1, vr2, vr3, vr4])\n",
    "boxW3 = Wire.ByVertices([vt1, vt2, vt3, vt4])\n",
    "boxW4 = Wire.ByVertices([vl1, vl2, vl3, vl4])\n",
    "w5 =  Wire.ByVertices([v5, v6, v7, v8])"
   ]
  },
  {
   "cell_type": "code",
   "execution_count": 86,
   "metadata": {},
   "outputs": [],
   "source": [
    "# Case 1 - Box \n",
    "\n",
    "# test 1\n",
    "box1 = CellComplex.Box(v0, 3, 3, 3 , 4, 4, 4)\n",
    "assert isinstance(box1, topologic.CellComplex), \"CellComplex.Box. Should be topologic.CellComplex\"\n",
    "# Topology.ExportToBRep(box1,r\"E:\\UK_Work\\Topologic_Work\\Export\\box1.brep\",True) # export B-rep\n",
    "\n",
    "# test 2\n",
    "box2 = CellComplex.Box(v1, width= 3.4, length=5.6, height=7.8, uSides=3, vSides=4, wSides=6, dirX=1, dirY=0, dirZ=0, placement= 'lowerleft')\n",
    "assert isinstance(box2, topologic.CellComplex), \"CellComplex.Box. Should be topologic.CellComplex\"\n",
    "# Topology.ExportToBRep(box2,r\"E:\\UK_Work\\Topologic_Work\\Export\\box2.brep\",True) # export B-rep"
   ]
  },
  {
   "cell_type": "code",
   "execution_count": 87,
   "metadata": {},
   "outputs": [
    {
     "name": "stdout",
     "output_type": "stream",
     "text": [
      "<topologic.CellComplex object at 0x0000020F5B966030>\n",
      "<topologic.CellComplex object at 0x0000020F5B966630>\n"
     ]
    }
   ],
   "source": [
    "# Case 2 - ByCells\n",
    "\"\"\"\n",
    "Info is missing in documentation, parameter cells should be a list is missing.\n",
    "https://topologic.app/topologicpy_doc/topologic_pdoc/CellComplex.html#CellComplex.CellComplex.ByCells\n",
    "\"\"\"\n",
    "\n",
    "cellBox1 = Cell.Box(v0, 6, 6, 1)\n",
    "cellCyc = Cell.Cylinder(v0, .6, 10)\n",
    "cellBox2 = Cell.Box(v0, 8, 12, 8)\n",
    "cellPri = Cell.Prism(v0, 2, 8, 15)\n",
    "cellBox3 = Cell.Box(v0, 8, 8, 9)\n",
    "\n",
    "# test 1\n",
    "comC1 = CellComplex.ByCells([cellBox1, cellCyc], 0.001)\n",
    "print(comC1)\n",
    "assert isinstance(comC1, topologic.CellComplex), \"CellComplex.ByCells. Should be topologic.CellComplex\"\n",
    "# Topology.ExportToBRep(comC1,r\"E:\\UK_Work\\Topologic_Work\\Export\\comC1.brep\",True) # export B-rep\n",
    "\n",
    "comC2 = CellComplex.ByCells([cellBox2, cellCyc], 0.001)\n",
    "print(comC2)\n",
    "assert isinstance(comC2, topologic.CellComplex), \"CellComplex.ByCells. Should be topologic.CellComplex\"\n",
    "# Topology.ExportToBRep(comC2,r\"E:\\UK_Work\\Topologic_Work\\Export\\comC2.brep\",True) # export B-rep\n",
    "\n"
   ]
  },
  {
   "cell_type": "code",
   "execution_count": 88,
   "metadata": {},
   "outputs": [],
   "source": [
    "# Case 3 - ByCellsCluster\n",
    "\n",
    "cluC1 = Cluster.ByTopologies([cellBox1, cellCyc, cellPri])\n",
    "cluC2 = Cluster.ByTopologies([cellBox2, cellCyc, cellBox3, cellPri])\n",
    "\n",
    "# test 1\n",
    "cClu1 = CellComplex.ByCellsCluster(cluC1, 0.001)\n",
    "assert isinstance(cClu1, topologic.CellComplex),  \"CellComplex.ByCellsCluster. Should be topologic.CellComplex\"\n",
    "# Topology.ExportToBRep(cClu1,r\"E:\\UK_Work\\Topologic_Work\\Export\\cClu1.brep\",True) # export B-rep\n",
    "\n",
    "# test 2\n",
    "cClu2 = CellComplex.ByCellsCluster(cluC2, 0.001)\n",
    "assert isinstance(cClu2, topologic.CellComplex),  \"CellComplex.ByCellsCluster. Should be topologic.CellComplex\"\n",
    "# Topology.ExportToBRep(cClu2,r\"E:\\UK_Work\\Topologic_Work\\Export\\cClu2.brep\",True) # export B-rep"
   ]
  },
  {
   "cell_type": "code",
   "execution_count": 89,
   "metadata": {},
   "outputs": [],
   "source": [
    "# Case 4 - ByFaces\n",
    "\n",
    "# test 1\n",
    "cube1 = CellComplex.ByFaces([boxf1, boxRf2, boxTf3, boxLf4])\n",
    "assert isinstance(cube1, topologic.CellComplex), \"CellComplex.ByFaces, Should be topologic.CellComplex\"\n",
    "\n",
    "# test 2\n",
    "cone1 = CellComplex.ByFaces([ConeS1, ConeS2, ConeS3, ConeS4])\n",
    "assert isinstance(cone1, topologic.CellComplex), \"CellComplex.ByFaces, Should be topologic.CellComplex\""
   ]
  },
  {
   "cell_type": "code",
   "execution_count": 90,
   "metadata": {},
   "outputs": [],
   "source": [
    "# Case 5 - ByFacesCluster\n",
    "\n",
    "fc1 = Cluster.ByTopologies([boxf1, boxRf2, boxTf3, boxLf4])\n",
    "fc2 = Cluster.ByTopologies([ConeS1, ConeS2, ConeS3, ConeS4])\n",
    "\n",
    "# test 1\n",
    "cubeC1 = CellComplex.ByFacesCluster(fc1, 0.1)\n",
    "assert isinstance(cubeC1, topologic.CellComplex), \"CellComplex.ByFacesCluster. Should be topologic.CellComplex\"\n",
    "\n",
    "# test 2\n",
    "coneC1 = CellComplex.ByFacesCluster(fc2, 0.01)\n",
    "assert isinstance(coneC1, topologic.CellComplex), \"CellComplex.ByFacesCluster. Should be topologic.CellComplex\""
   ]
  },
  {
   "cell_type": "code",
   "execution_count": 116,
   "metadata": {},
   "outputs": [
    {
     "data": {
      "text/plain": [
       "True"
      ]
     },
     "execution_count": 116,
     "metadata": {},
     "output_type": "execute_result"
    }
   ],
   "source": [
    "# Case 6 - ByWires\n",
    "\n",
    "\"\"\"\n",
    "Info is missing in documentation, parameter wires should be a list is missing.\n",
    "https://topologic.app/topologicpy_doc/topologic_pdoc/CellComplex.html#CellComplex.CellComplex.ByWires\n",
    "\n",
    "Not clear to me\n",
    "\n",
    "\"\"\"\n",
    "\n",
    "LoftW1 = CellComplex.ByWires([boxW1, boxW2], True, 0.0001)\n",
    "# assert isinstance(LoftW1, topologic.CellComplex)\n",
    "\n",
    "Topology.ExportToBRep(LoftW1, r\"E:\\UK_Work\\Topologic_Work\\Export\\LoftW1.brep\",True) # export B-rep\n",
    "\n",
    "LoftW2 = CellComplex.ByWires([boxW1, boxW3, boxW4], True, 0.0001)\n",
    "# assert isinstance(LoftW2, topologic.CellComplex)\n",
    "Topology.ExportToBRep(LoftW2, r\"E:\\UK_Work\\Topologic_Work\\Export\\LoftW2.brep\",True) # export B-rep\n"
   ]
  },
  {
   "cell_type": "code",
   "execution_count": 92,
   "metadata": {},
   "outputs": [],
   "source": [
    "# Case 7 - ByWiresCluster\n",
    "\"\"\"\n",
    "Not clear to me\n",
    "\n",
    "\"\"\""
   ]
  },
  {
   "cell_type": "code",
   "execution_count": 93,
   "metadata": {},
   "outputs": [],
   "source": [
    "# Case 8 - Cells\n",
    "\n",
    "# test 1\n",
    "bC1 = CellComplex.Cells(box1)\n",
    "assert isinstance(bC1, list), \"CellComplex.Cells. Should be list\"\n",
    "\n",
    "#test 2\n",
    "bC2 = CellComplex.Cells(box2)\n",
    "assert isinstance(bC2, list), \"CellComplex.Cells. Should be list\""
   ]
  },
  {
   "cell_type": "code",
   "execution_count": 94,
   "metadata": {},
   "outputs": [
    {
     "name": "stdout",
     "output_type": "stream",
     "text": [
      "<topologic.CellComplex object at 0x0000020F5B90EBF0>\n"
     ]
    }
   ],
   "source": [
    "# Case 9 - Decompose\n",
    "\"\"\"\n",
    "Not clear\n",
    "\n",
    "\"\"\"\n",
    "\n",
    "print(box1)\n",
    "# test 1\n",
    "# d1 = CellComplex.Decompose(box1, 10, 0.001)\n",
    "# print(d1)"
   ]
  },
  {
   "cell_type": "code",
   "execution_count": 95,
   "metadata": {},
   "outputs": [],
   "source": [
    "# Case 10 - Edges\n",
    "\n",
    "# test 1\n",
    "bE1 = CellComplex.Edges(box1)\n",
    "assert isinstance(bE1, list), \"CellComplex.Edges. Should be list\"\n",
    "\n",
    "# test 2\n",
    "bE2 = CellComplex.Edges(box2)\n",
    "assert isinstance(bE2, list), \"CellComplex.Edges. Should be list\""
   ]
  },
  {
   "cell_type": "code",
   "execution_count": 108,
   "metadata": {},
   "outputs": [
    {
     "name": "stdout",
     "output_type": "stream",
     "text": [
      "<topologic.Cell object at 0x0000020F5BA215B0>\n"
     ]
    },
    {
     "data": {
      "text/plain": [
       "True"
      ]
     },
     "execution_count": 108,
     "metadata": {},
     "output_type": "execute_result"
    }
   ],
   "source": [
    "# Case 11 - ExternalBoundary\n",
    "\n",
    "# test 1\n",
    "bEB1 = CellComplex.ExternalBoundary(cClu1)\n",
    "print(bEB1)\n",
    "assert isinstance(bEB1, topologic.Cell), \"CellComplex.ExternalBoundary. Should be topologic.Cell\"\n",
    "Topology.ExportToBRep(bEB1, r\"E:\\UK_Work\\Topologic_Work\\Export\\bEB1.brep\",True) # export B-rep\n",
    "\n",
    "# test 2\n",
    "bEB2 = CellComplex.ExternalBoundary(cClu2)\n",
    "assert isinstance(bEB2, topologic.Cell), \"CellComplex.ExternalBoundary. Should be topologic.Cell\"\n",
    "Topology.ExportToBRep(bEB2, r\"E:\\UK_Work\\Topologic_Work\\Export\\bEB2.brep\",True) # export B-rep\n"
   ]
  },
  {
   "cell_type": "code",
   "execution_count": 97,
   "metadata": {},
   "outputs": [],
   "source": [
    "# Case 12 - Faces\n",
    "\n",
    "# test 1\n",
    "bF1 = CellComplex.Faces(box1)\n",
    "assert isinstance(bF1, list), \"CellComplex.Faces. Should be list\"\n",
    "# print(bF1)\n",
    "# Topology.ExportToBRep(bF1, r\"E:\\UK_Work\\Topologic_Work\\Export\\bF1.brep\",True) # export B-rep\n",
    "\n",
    "#test 2\n",
    "bF2 = CellComplex.Faces(box2)\n",
    "assert isinstance(bF2, list), \"CellComplex.Faces. Should be list\"\n",
    "# Topology.ExportToBRep(bF2, r\"E:\\UK_Work\\Topologic_Work\\Export\\bF2.brep\",True) # export B-rep"
   ]
  },
  {
   "cell_type": "code",
   "execution_count": 111,
   "metadata": {},
   "outputs": [
    {
     "data": {
      "text/plain": [
       "True"
      ]
     },
     "execution_count": 111,
     "metadata": {},
     "output_type": "execute_result"
    }
   ],
   "source": [
    "# Case 13 - InternalBoundary\n",
    "\n",
    "# test 1\n",
    "bIB1 = CellComplex.InternalBoundary(cClu1)\n",
    "assert isinstance(bIB1, list), \"CellComplex.ExternalBoundary. Should be topologic.Cell\"\n",
    "# export single B-rep from list\n",
    "Topology.ExportToBRep(bIB1[0], r\"E:\\UK_Work\\Topologic_Work\\Export\\bIB1.brep\",True)\n",
    "\n",
    "# test 2\n",
    "bIB2 = CellComplex.InternalBoundary(cClu2)\n",
    "assert isinstance(bIB2, list), \"CellComplex.ExternalBoundary. Should be topologic.Cell\"\n",
    "# export single B-rep from list\n",
    "Topology.ExportToBRep(bIB2[0], r\"E:\\UK_Work\\Topologic_Work\\Export\\bIB2.brep\",True)"
   ]
  },
  {
   "cell_type": "code",
   "execution_count": 115,
   "metadata": {},
   "outputs": [],
   "source": [
    "# Case 14 - NonManifoldFaces\n",
    "\"\"\"\n",
    "Info is missing in documentation, written ist instead of list.\n",
    "\n",
    "\"\"\"\n",
    "# test 1\n",
    "nmF1 = CellComplex.NonManifoldFaces(cClu1)\n",
    "assert isinstance(nmF1, list), \"CellComplex.NonManifoldFaces. Should be list\"\n",
    "\n",
    "# test 2\n",
    "nmF2 = CellComplex.NonManifoldFaces(cClu2)\n",
    "assert isinstance(nmF2, list), \"CellComplex.NonManifoldFaces. Should be list\""
   ]
  },
  {
   "cell_type": "code",
   "execution_count": 100,
   "metadata": {},
   "outputs": [],
   "source": [
    "# Case 15 - Prism\n",
    "\n",
    "# test 1\n",
    "p1 = CellComplex.Prism(v1, 2, 5, 6, 3, 3)\n",
    "assert isinstance(p1, topologic.CellComplex), \"CellComplex.Prism, Should be topologic.CellComplex\"\n",
    "\n",
    "# test 2\n",
    "p2 = CellComplex.Prism(v1, width=4.9, length= 8, height= 10, uSides=3, vSides=3, wSides=6, dirX=1, dirY=1, dirZ=0, placement='lowerleft')\n",
    "assert isinstance(p2, topologic.CellComplex), \"CellComplex.Prism, Should be topologic.CellComplex\""
   ]
  },
  {
   "cell_type": "code",
   "execution_count": 101,
   "metadata": {},
   "outputs": [],
   "source": [
    "# Case 16 - Shells\n",
    "\n",
    "# test 1\n",
    "bS1 = CellComplex.Shells(box1)\n",
    "assert isinstance(bS1, list), \"CellComplex.Shells. Should be list\"\n",
    "\n",
    "# test 2\n",
    "bS2 = CellComplex.Shells(box2)\n",
    "assert isinstance(bS2, list), \"CellComplex.Shells. Should be list\""
   ]
  },
  {
   "cell_type": "code",
   "execution_count": 102,
   "metadata": {},
   "outputs": [],
   "source": [
    "# Case 17 - Vertices\n",
    "\n",
    "# test 1\n",
    "bV1 = CellComplex.Vertices(box1)\n",
    "assert isinstance(bV1, list), \"CellComplex.Shells. Should be list\"\n",
    "\n",
    "# test 2\n",
    "bV2 = CellComplex.Vertices(box2)\n",
    "assert isinstance(bV2, list), \"CellComplex.Shells. Should be list\""
   ]
  },
  {
   "cell_type": "code",
   "execution_count": 103,
   "metadata": {},
   "outputs": [],
   "source": [
    "# Case 18 - Wires\n",
    "\n",
    "# test 1\n",
    "bW1 = CellComplex.Wires(box1)\n",
    "assert isinstance(bW1, list), \"CellComplex.Shells. Should be list\"\n",
    "\n",
    "# test 2\n",
    "bW2 = CellComplex.Wires(box2)\n",
    "assert isinstance(bW2, list), \"CellComplex.Shells. Should be list\"\n"
   ]
  }
 ],
 "metadata": {
  "kernelspec": {
   "display_name": "base",
   "language": "python",
   "name": "python3"
  },
  "language_info": {
   "codemirror_mode": {
    "name": "ipython",
    "version": 3
   },
   "file_extension": ".py",
   "mimetype": "text/x-python",
   "name": "python",
   "nbconvert_exporter": "python",
   "pygments_lexer": "ipython3",
   "version": "3.8.8"
  },
  "orig_nbformat": 4,
  "vscode": {
   "interpreter": {
    "hash": "d5b2151f520895d96024011eb601ad3676c0bf65eeb3027d60d487339ca76817"
   }
  }
 },
 "nbformat": 4,
 "nbformat_minor": 2
}
