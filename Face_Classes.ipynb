{
 "cells": [
  {
   "attachments": {},
   "cell_type": "markdown",
   "metadata": {},
   "source": [
    "Face Classes unit test"
   ]
  },
  {
   "cell_type": "code",
   "execution_count": 32,
   "metadata": {},
   "outputs": [],
   "source": [
    "# importing libraries\n",
    "\n",
    "from topologicpy import topologic\n",
    "from topologicpy.Vertex import Vertex\n",
    "from topologicpy.Edge import Edge\n",
    "from topologicpy.Wire import Wire\n",
    "from topologicpy.Face import Face\n",
    "from topologicpy.Cluster import Cluster\n",
    "from topologicpy.Shell import Shell"
   ]
  },
  {
   "cell_type": "code",
   "execution_count": 33,
   "metadata": {},
   "outputs": [
    {
     "name": "stdout",
     "output_type": "stream",
     "text": [
      "<topologic.Vertex object at 0x000001FDFFD76E30> <topologic.Vertex object at 0x000001FDFFD76E70> <topologic.Vertex object at 0x000001FDFFD76EB0> <topologic.Vertex object at 0x000001FDFFD76EF0>\n"
     ]
    }
   ],
   "source": [
    "\n",
    "v0 = Vertex.ByCoordinates(0, 0, 0)\n",
    "v1 = Vertex.ByCoordinates(-2, 2, 0)\n",
    "v2 = Vertex.ByCoordinates(-2, -2, 0)\n",
    "v3 = Vertex.ByCoordinates(2, -2, 0)\n",
    "v4 = Vertex.ByCoordinates(2, 2, 0)\n",
    "v5 = Vertex.ByCoordinates(-1, 1, 0)\n",
    "v6 = Vertex.ByCoordinates(-1, -1, 0)\n",
    "v7 = Vertex.ByCoordinates(1, -1, 0)\n",
    "v8 = Vertex.ByCoordinates(1, 1, 0)\n",
    "\n",
    "v9 = Vertex.ByCoordinates(-1.8, 10.3, 17)\n",
    "v10 = Vertex.ByCoordinates(-1.8, -4.33, 17)\n",
    "v11 = Vertex.ByCoordinates(9.3, 9.4, 4.6)\n",
    "v12 = Vertex.ByCoordinates(9.3, -5.3, 4.6)\n",
    "v13 = Vertex.ByCoordinates(23.4, 14.3, 0)\n",
    "v14 = Vertex.ByCoordinates(23.4, 14.3, 0)\n",
    "v15 = Vertex.ByCoordinates(41, 10.3, 17)\n",
    "v16 = Vertex.ByCoordinates(41, -4.3, 17)\n",
    "\n",
    "\n",
    "#vertices to make traingle\n",
    "tv1 = Vertex.ByCoordinates(-3,0, 0)\n",
    "tv2 = Vertex.ByCoordinates(3, 0, 0)\n",
    "tv3 = Vertex.ByCoordinates(0,8,0)\n",
    "tv4 = Vertex.ByCoordinates(-6,5,0)\n",
    "print(tv1, tv2, tv3, tv4)\n",
    "\n",
    "te1 = Edge.ByVertices([tv1, tv2])\n",
    "te2 = Edge.ByVertices([tv2, tv3])\n",
    "te3 = Edge.ByVertices([tv3, tv4])\n",
    "te4 = Edge.ByVertices([tv4, tv1])\n",
    "\n",
    "e1 = Edge.ByVertices([v1,v2])\n",
    "e2 = Edge.ByVertices([v2,v3])\n",
    "e3 = Edge.ByVertices([v3,v4])\n",
    "e4 = Edge.ByVertices([v4, v1])\n",
    "\n"
   ]
  },
  {
   "cell_type": "code",
   "execution_count": 25,
   "metadata": {},
   "outputs": [],
   "source": [
    "# def AddInternalBoundaries(face, wires)\n",
    "f1 = Face.ByVertices([v1, v2, v3, v4])\n",
    "w1 = Wire.ByVertices([v5, v6, v7, v8], True)\n",
    "\n",
    "c1 = Face.Circle(v0, 5, 16)\n",
    "rec1 = Wire.Rectangle(v0, .5, .5)\n",
    "rec2 = Wire.Rectangle(v8, .3, .3)\n",
    "rec3 = Wire.Rectangle(v6, .4, .4)\n",
    "\n",
    "# case 1\n",
    "intB1 = Face.AddInternalBoundaries(f1, [w1])\n",
    "assert isinstance(intB1, topologic.Face), \"Face.AddInternalBoundaries. Should be topologic.Face\"\n",
    "\n",
    "# case 2\n",
    "intB2 = Face.AddInternalBoundaries(c1, [rec1, rec2])\n",
    "assert isinstance(intB2, topologic.Face), \"Face.AddInternalBoundaries. Should be topologic.Face\"\n"
   ]
  },
  {
   "cell_type": "code",
   "execution_count": 26,
   "metadata": {},
   "outputs": [],
   "source": [
    "# def AddInternalBoundariesCluster(face, cluster)\n",
    "clu1 = Cluster.ByTopologies([rec1, rec2])\n",
    "clu2 = Cluster.ByTopologies([rec1, rec2, rec3])\n",
    "\n",
    "# case 1\n",
    "intB_C1 = Face.AddInternalBoundariesCluster(c1, clu1)\n",
    "assert isinstance(intB_C1, topologic.Face), \"Face.AddInternalBoundariesCluster. Should be topologic.Face\"\n",
    "\n",
    "# case 2\n",
    "intB_C2 = Face.AddInternalBoundariesCluster(c1, clu2)\n",
    "assert isinstance(intB_C2, topologic.Face), \"Face.AddInternalBoundariesCluster. Should be topologic.Face\""
   ]
  },
  {
   "cell_type": "code",
   "execution_count": 27,
   "metadata": {},
   "outputs": [],
   "source": [
    "# def Angle(faceA, faceB, mantissa=4)\n",
    "rec4 = Face.Rectangle(v1, 5, 4, 0, 1, 1)\n",
    "rec5 = Face.Rectangle(v1, 5,4,0,0,1)\n",
    "\n",
    "c2 = Face.Circle(v1, 1, 16, dirX= 45, dirY= 45 , dirZ= 45)\n",
    "c3 = Face.Circle(v1, 1, 16, dirX=-45, dirY= -45 , dirZ= -45)\n",
    "\n",
    "# case 1\n",
    "rA1 = Face.Angle(rec4, rec5)\n",
    "assert isinstance(rA1, float), \"Face.Angle. Should be float\"\n",
    "\n",
    "# case 2\n",
    "rA2 = Face.Angle(c2, c3)\n",
    "assert isinstance(rA2, float), \"Face.Angle. Should be float\""
   ]
  },
  {
   "cell_type": "code",
   "execution_count": 28,
   "metadata": {},
   "outputs": [],
   "source": [
    "# def Area(face, mantissa=4)\n",
    "\n",
    "# case 1\n",
    "areaS = Face.Area(f1)\n",
    "assert isinstance(areaS, float), \"Face.Area. Should be float\"\n",
    "\n",
    "# case 2\n",
    "areaC = Face.Area(c1, 6)\n",
    "assert isinstance(areaC, float), \"Face.Area. Should be float\""
   ]
  },
  {
   "cell_type": "code",
   "execution_count": 29,
   "metadata": {},
   "outputs": [],
   "source": [
    "# def BoundingFace(face)\n",
    "\n",
    "# case 1\n",
    "bF1 = Face.BoundingFace(f1)\n",
    "assert isinstance(bF1, topologic.Face), \"Face.BoundingFace. Should be topologic.Face\"\n",
    "\n",
    "# case 2\n",
    "bF2 = Face.BoundingFace(c1)\n",
    "assert isinstance(bF1, topologic.Face), \"Face.BoundingFace. Should be topologic.Face\""
   ]
  },
  {
   "cell_type": "code",
   "execution_count": 30,
   "metadata": {},
   "outputs": [
    {
     "name": "stdout",
     "output_type": "stream",
     "text": [
      "<topologic.Face object at 0x000001FDFFDC3970>\n"
     ]
    }
   ],
   "source": [
    "# def ByEdges(edges)\n",
    "\n",
    "# case 1\n",
    "fE1 = Face.ByEdges([e1, e2, e3, e4])\n",
    "assert isinstance(fE1, topologic.Face), \"Face.ByEdges. Should be topologic.Face\"\n",
    "\n",
    "# case 2\n",
    "fE2 = Face.ByEdges([te1, te2, te3, te4])\n",
    "# assert isinstance(fE2, topologic.Face), \"Face.ByEdges. Should be topologic.Face\"\n",
    "print(fE2)"
   ]
  },
  {
   "cell_type": "code",
   "execution_count": 34,
   "metadata": {},
   "outputs": [
    {
     "name": "stdout",
     "output_type": "stream",
     "text": [
      "<topologic.Cluster object at 0x000001FDFD59FF30>\n",
      "<topologic.Cluster object at 0x000001FDFFD6B1B0>\n"
     ]
    },
    {
     "ename": "UnboundLocalError",
     "evalue": "local variable 'edges' referenced before assignment",
     "output_type": "error",
     "traceback": [
      "\u001b[1;31m---------------------------------------------------------------------------\u001b[0m",
      "\u001b[1;31mUnboundLocalError\u001b[0m                         Traceback (most recent call last)",
      "\u001b[1;32m<ipython-input-34-4c1e8837652a>\u001b[0m in \u001b[0;36m<module>\u001b[1;34m\u001b[0m\n\u001b[0;32m      9\u001b[0m \u001b[1;33m\u001b[0m\u001b[0m\n\u001b[0;32m     10\u001b[0m \u001b[1;31m# case 1\u001b[0m\u001b[1;33m\u001b[0m\u001b[1;33m\u001b[0m\u001b[1;33m\u001b[0m\u001b[0m\n\u001b[1;32m---> 11\u001b[1;33m \u001b[0mfcE1\u001b[0m \u001b[1;33m=\u001b[0m \u001b[0mFace\u001b[0m\u001b[1;33m.\u001b[0m\u001b[0mByEdgesCluster\u001b[0m\u001b[1;33m(\u001b[0m\u001b[0mClu3\u001b[0m\u001b[1;33m)\u001b[0m\u001b[1;33m\u001b[0m\u001b[1;33m\u001b[0m\u001b[0m\n\u001b[0m\u001b[0;32m     12\u001b[0m \u001b[1;33m\u001b[0m\u001b[0m\n\u001b[0;32m     13\u001b[0m \u001b[1;31m# case 2\u001b[0m\u001b[1;33m\u001b[0m\u001b[1;33m\u001b[0m\u001b[1;33m\u001b[0m\u001b[0m\n",
      "\u001b[1;32mc:\\Users\\DARSHAN.H.CHAVAN.H\\anaconda3\\lib\\site-packages\\topologicpy\\Face.py\u001b[0m in \u001b[0;36mByEdgesCluster\u001b[1;34m(cluster)\u001b[0m\n\u001b[0;32m    208\u001b[0m         \"\"\"\n\u001b[0;32m    209\u001b[0m         \u001b[1;32mfrom\u001b[0m \u001b[0mtopologicpy\u001b[0m\u001b[1;33m.\u001b[0m\u001b[0mCluster\u001b[0m \u001b[1;32mimport\u001b[0m \u001b[0mCluster\u001b[0m\u001b[1;33m\u001b[0m\u001b[1;33m\u001b[0m\u001b[0m\n\u001b[1;32m--> 210\u001b[1;33m         \u001b[1;32mif\u001b[0m \u001b[1;32mnot\u001b[0m \u001b[0misinstance\u001b[0m\u001b[1;33m(\u001b[0m\u001b[0medges\u001b[0m\u001b[1;33m,\u001b[0m \u001b[0mtopologic\u001b[0m\u001b[1;33m.\u001b[0m\u001b[0mCluster\u001b[0m\u001b[1;33m)\u001b[0m\u001b[1;33m:\u001b[0m\u001b[1;33m\u001b[0m\u001b[1;33m\u001b[0m\u001b[0m\n\u001b[0m\u001b[0;32m    211\u001b[0m             \u001b[1;32mreturn\u001b[0m \u001b[1;32mNone\u001b[0m\u001b[1;33m\u001b[0m\u001b[1;33m\u001b[0m\u001b[0m\n\u001b[0;32m    212\u001b[0m         \u001b[0medges\u001b[0m \u001b[1;33m=\u001b[0m \u001b[0mCluster\u001b[0m\u001b[1;33m.\u001b[0m\u001b[0mEdges\u001b[0m\u001b[1;33m(\u001b[0m\u001b[0mcluster\u001b[0m\u001b[1;33m)\u001b[0m\u001b[1;33m\u001b[0m\u001b[1;33m\u001b[0m\u001b[0m\n",
      "\u001b[1;31mUnboundLocalError\u001b[0m: local variable 'edges' referenced before assignment"
     ]
    }
   ],
   "source": [
    "# def ByEdgesCluster(cluster)\n",
    "\"\"\" Not Working \"\"\"\n",
    "\n",
    "Clu3 = Cluster.ByTopologies([e1, e2, e3, e4])\n",
    "Clu4 = Cluster.ByTopologies([te1, te2, te3, te4])\n",
    "\n",
    "print(Clu3)\n",
    "print(Clu4)\n",
    "\n",
    "# case 1\n",
    "fcE1 = Face.ByEdgesCluster(Clu3)\n",
    "\n",
    "# case 2\n",
    "fcE2 = Face.ByEdgesCluster(Clu4)\n",
    "print(fcE1)"
   ]
  },
  {
   "cell_type": "code",
   "execution_count": null,
   "metadata": {},
   "outputs": [
    {
     "ename": "NameError",
     "evalue": "name 'Vector' is not defined",
     "output_type": "error",
     "traceback": [
      "\u001b[1;31m---------------------------------------------------------------------------\u001b[0m",
      "\u001b[1;31mNameError\u001b[0m                                 Traceback (most recent call last)",
      "\u001b[1;32m<ipython-input-33-3d76aedfce12>\u001b[0m in \u001b[0;36m<module>\u001b[1;34m\u001b[0m\n\u001b[0;32m      1\u001b[0m \u001b[1;31m# def ByOffset(face, offset, reverse, tolerance=0.0001)\u001b[0m\u001b[1;33m\u001b[0m\u001b[1;33m\u001b[0m\u001b[1;33m\u001b[0m\u001b[0m\n\u001b[0;32m      2\u001b[0m \u001b[1;34m\"\"\"Incomplete\"\"\"\u001b[0m\u001b[1;33m\u001b[0m\u001b[1;33m\u001b[0m\u001b[0m\n\u001b[1;32m----> 3\u001b[1;33m \u001b[0moffF1\u001b[0m \u001b[1;33m=\u001b[0m \u001b[0mFace\u001b[0m\u001b[1;33m.\u001b[0m\u001b[0mByOffset\u001b[0m\u001b[1;33m(\u001b[0m\u001b[0mface\u001b[0m \u001b[1;33m=\u001b[0m \u001b[0mf1\u001b[0m\u001b[1;33m,\u001b[0m \u001b[0moffset\u001b[0m \u001b[1;33m=\u001b[0m \u001b[1;36m2\u001b[0m\u001b[1;33m,\u001b[0m \u001b[0mreverse\u001b[0m \u001b[1;33m=\u001b[0m \u001b[1;36m0\u001b[0m\u001b[1;33m,\u001b[0m \u001b[0mtolerance\u001b[0m\u001b[1;33m=\u001b[0m\u001b[1;36m0.0001\u001b[0m\u001b[1;33m)\u001b[0m\u001b[1;33m\u001b[0m\u001b[1;33m\u001b[0m\u001b[0m\n\u001b[0m\u001b[0;32m      4\u001b[0m \u001b[1;33m\u001b[0m\u001b[0m\n\u001b[0;32m      5\u001b[0m \u001b[1;33m\u001b[0m\u001b[0m\n",
      "\u001b[1;32mc:\\Users\\DARSHAN.H.CHAVAN.H\\anaconda3\\lib\\site-packages\\topologicpy\\Face.py\u001b[0m in \u001b[0;36mByOffset\u001b[1;34m(face, offset, reverse, tolerance)\u001b[0m\n\u001b[0;32m    254\u001b[0m         \u001b[0minternal_boundaries\u001b[0m \u001b[1;33m=\u001b[0m \u001b[1;33m[\u001b[0m\u001b[1;33m]\u001b[0m\u001b[1;33m\u001b[0m\u001b[1;33m\u001b[0m\u001b[0m\n\u001b[0;32m    255\u001b[0m         \u001b[0m_\u001b[0m \u001b[1;33m=\u001b[0m \u001b[0mface\u001b[0m\u001b[1;33m.\u001b[0m\u001b[0mInternalBoundaries\u001b[0m\u001b[1;33m(\u001b[0m\u001b[0minternal_boundaries\u001b[0m\u001b[1;33m)\u001b[0m\u001b[1;33m\u001b[0m\u001b[1;33m\u001b[0m\u001b[0m\n\u001b[1;32m--> 256\u001b[1;33m         \u001b[0moffset_external_boundary\u001b[0m \u001b[1;33m=\u001b[0m \u001b[0mWire\u001b[0m\u001b[1;33m.\u001b[0m\u001b[0mByOffset\u001b[0m\u001b[1;33m(\u001b[0m\u001b[0mexternal_boundary\u001b[0m\u001b[1;33m,\u001b[0m \u001b[0moffset\u001b[0m\u001b[1;33m,\u001b[0m \u001b[0mreverse\u001b[0m\u001b[1;33m,\u001b[0m \u001b[0mtolerance\u001b[0m\u001b[1;33m)\u001b[0m\u001b[1;33m\u001b[0m\u001b[1;33m\u001b[0m\u001b[0m\n\u001b[0m\u001b[0;32m    257\u001b[0m         \u001b[0moffset_external_face\u001b[0m \u001b[1;33m=\u001b[0m \u001b[0mtopologic\u001b[0m\u001b[1;33m.\u001b[0m\u001b[0mFace\u001b[0m\u001b[1;33m.\u001b[0m\u001b[0mByExternalBoundary\u001b[0m\u001b[1;33m(\u001b[0m\u001b[0moffset_external_boundary\u001b[0m\u001b[1;33m)\u001b[0m\u001b[1;33m\u001b[0m\u001b[1;33m\u001b[0m\u001b[0m\n\u001b[0;32m    258\u001b[0m         \u001b[1;32mif\u001b[0m \u001b[0mtopologic\u001b[0m\u001b[1;33m.\u001b[0m\u001b[0mFaceUtility\u001b[0m\u001b[1;33m.\u001b[0m\u001b[0mArea\u001b[0m\u001b[1;33m(\u001b[0m\u001b[0moffset_external_face\u001b[0m\u001b[1;33m)\u001b[0m \u001b[1;33m<\u001b[0m \u001b[0mtolerance\u001b[0m\u001b[1;33m:\u001b[0m\u001b[1;33m\u001b[0m\u001b[1;33m\u001b[0m\u001b[0m\n",
      "\u001b[1;32mc:\\Users\\DARSHAN.H.CHAVAN.H\\anaconda3\\lib\\site-packages\\topologicpy\\Wire.py\u001b[0m in \u001b[0;36mByOffset\u001b[1;34m(wire, offset, reverse, tolerance)\u001b[0m\n\u001b[0;32m    106\u001b[0m             \u001b[0mvrtx1\u001b[0m \u001b[1;33m=\u001b[0m \u001b[1;33m[\u001b[0m\u001b[0mexternal_vertices\u001b[0m\u001b[1;33m[\u001b[0m\u001b[0midx\u001b[0m\u001b[1;33m+\u001b[0m\u001b[1;36m1\u001b[0m\u001b[1;33m]\u001b[0m\u001b[1;33m.\u001b[0m\u001b[0mX\u001b[0m\u001b[1;33m(\u001b[0m\u001b[1;33m)\u001b[0m\u001b[1;33m,\u001b[0m \u001b[0mexternal_vertices\u001b[0m\u001b[1;33m[\u001b[0m\u001b[0midx\u001b[0m\u001b[1;33m+\u001b[0m\u001b[1;36m1\u001b[0m\u001b[1;33m]\u001b[0m\u001b[1;33m.\u001b[0m\u001b[0mY\u001b[0m\u001b[1;33m(\u001b[0m\u001b[1;33m)\u001b[0m\u001b[1;33m,\u001b[0m \u001b[0mexternal_vertices\u001b[0m\u001b[1;33m[\u001b[0m\u001b[0midx\u001b[0m\u001b[1;33m+\u001b[0m\u001b[1;36m1\u001b[0m\u001b[1;33m]\u001b[0m\u001b[1;33m.\u001b[0m\u001b[0mZ\u001b[0m\u001b[1;33m(\u001b[0m\u001b[1;33m)\u001b[0m\u001b[1;33m]\u001b[0m\u001b[1;33m\u001b[0m\u001b[1;33m\u001b[0m\u001b[0m\n\u001b[0;32m    107\u001b[0m             \u001b[0mvrtx2\u001b[0m \u001b[1;33m=\u001b[0m \u001b[1;33m[\u001b[0m\u001b[0mexternal_vertices\u001b[0m\u001b[1;33m[\u001b[0m\u001b[0midx\u001b[0m\u001b[1;33m-\u001b[0m\u001b[1;36m1\u001b[0m\u001b[1;33m]\u001b[0m\u001b[1;33m.\u001b[0m\u001b[0mX\u001b[0m\u001b[1;33m(\u001b[0m\u001b[1;33m)\u001b[0m\u001b[1;33m,\u001b[0m \u001b[0mexternal_vertices\u001b[0m\u001b[1;33m[\u001b[0m\u001b[0midx\u001b[0m\u001b[1;33m-\u001b[0m\u001b[1;36m1\u001b[0m\u001b[1;33m]\u001b[0m\u001b[1;33m.\u001b[0m\u001b[0mY\u001b[0m\u001b[1;33m(\u001b[0m\u001b[1;33m)\u001b[0m\u001b[1;33m,\u001b[0m \u001b[0mexternal_vertices\u001b[0m\u001b[1;33m[\u001b[0m\u001b[0midx\u001b[0m\u001b[1;33m-\u001b[0m\u001b[1;36m1\u001b[0m\u001b[1;33m]\u001b[0m\u001b[1;33m.\u001b[0m\u001b[0mZ\u001b[0m\u001b[1;33m(\u001b[0m\u001b[1;33m)\u001b[0m\u001b[1;33m]\u001b[0m\u001b[1;33m\u001b[0m\u001b[1;33m\u001b[0m\u001b[0m\n\u001b[1;32m--> 108\u001b[1;33m             \u001b[0mu\u001b[0m \u001b[1;33m=\u001b[0m \u001b[0mVector\u001b[0m\u001b[1;33m.\u001b[0m\u001b[0mNormalize\u001b[0m\u001b[1;33m(\u001b[0m\u001b[1;33m[\u001b[0m\u001b[1;33m(\u001b[0m\u001b[0mvrtx1\u001b[0m\u001b[1;33m[\u001b[0m\u001b[1;36m0\u001b[0m\u001b[1;33m]\u001b[0m \u001b[1;33m-\u001b[0m \u001b[0mvrtx\u001b[0m\u001b[1;33m[\u001b[0m\u001b[1;36m0\u001b[0m\u001b[1;33m]\u001b[0m\u001b[1;33m)\u001b[0m\u001b[1;33m,\u001b[0m \u001b[1;33m(\u001b[0m\u001b[0mvrtx1\u001b[0m\u001b[1;33m[\u001b[0m\u001b[1;36m1\u001b[0m\u001b[1;33m]\u001b[0m \u001b[1;33m-\u001b[0m \u001b[0mvrtx\u001b[0m\u001b[1;33m[\u001b[0m\u001b[1;36m1\u001b[0m\u001b[1;33m]\u001b[0m\u001b[1;33m)\u001b[0m\u001b[1;33m,\u001b[0m\u001b[1;33m(\u001b[0m\u001b[0mvrtx1\u001b[0m\u001b[1;33m[\u001b[0m\u001b[1;36m2\u001b[0m\u001b[1;33m]\u001b[0m \u001b[1;33m-\u001b[0m \u001b[0mvrtx\u001b[0m\u001b[1;33m[\u001b[0m\u001b[1;36m2\u001b[0m\u001b[1;33m]\u001b[0m\u001b[1;33m)\u001b[0m\u001b[1;33m]\u001b[0m\u001b[1;33m)\u001b[0m\u001b[1;33m\u001b[0m\u001b[1;33m\u001b[0m\u001b[0m\n\u001b[0m\u001b[0;32m    109\u001b[0m             \u001b[0mv\u001b[0m \u001b[1;33m=\u001b[0m \u001b[0mVector\u001b[0m\u001b[1;33m.\u001b[0m\u001b[0mNormalize\u001b[0m\u001b[1;33m(\u001b[0m\u001b[1;33m[\u001b[0m\u001b[1;33m(\u001b[0m\u001b[0mvrtx2\u001b[0m\u001b[1;33m[\u001b[0m\u001b[1;36m0\u001b[0m\u001b[1;33m]\u001b[0m \u001b[1;33m-\u001b[0m \u001b[0mvrtx\u001b[0m\u001b[1;33m[\u001b[0m\u001b[1;36m0\u001b[0m\u001b[1;33m]\u001b[0m\u001b[1;33m)\u001b[0m\u001b[1;33m,\u001b[0m \u001b[1;33m(\u001b[0m\u001b[0mvrtx2\u001b[0m\u001b[1;33m[\u001b[0m\u001b[1;36m1\u001b[0m\u001b[1;33m]\u001b[0m \u001b[1;33m-\u001b[0m \u001b[0mvrtx\u001b[0m\u001b[1;33m[\u001b[0m\u001b[1;36m1\u001b[0m\u001b[1;33m]\u001b[0m\u001b[1;33m)\u001b[0m\u001b[1;33m,\u001b[0m\u001b[1;33m(\u001b[0m\u001b[0mvrtx2\u001b[0m\u001b[1;33m[\u001b[0m\u001b[1;36m2\u001b[0m\u001b[1;33m]\u001b[0m \u001b[1;33m-\u001b[0m \u001b[0mvrtx\u001b[0m\u001b[1;33m[\u001b[0m\u001b[1;36m2\u001b[0m\u001b[1;33m]\u001b[0m\u001b[1;33m)\u001b[0m\u001b[1;33m]\u001b[0m\u001b[1;33m)\u001b[0m\u001b[1;33m\u001b[0m\u001b[1;33m\u001b[0m\u001b[0m\n\u001b[0;32m    110\u001b[0m             \u001b[0mev\u001b[0m \u001b[1;33m=\u001b[0m \u001b[0mexternal_vertices\u001b[0m\u001b[1;33m[\u001b[0m\u001b[0midx\u001b[0m\u001b[1;33m]\u001b[0m\u001b[1;33m\u001b[0m\u001b[1;33m\u001b[0m\u001b[0m\n",
      "\u001b[1;31mNameError\u001b[0m: name 'Vector' is not defined"
     ]
    }
   ],
   "source": [
    "# def ByOffset(face, offset, reverse, tolerance=0.0001)\n",
    "\"\"\"Incomplete\"\"\"\n",
    "offF1 = Face.ByOffset(face = f1, offset = 2, reverse = 0, tolerance=0.0001)\n",
    "\n",
    "\n",
    "\n",
    "# offF2 = Face.ByOffset(c1, 5, False)"
   ]
  },
  {
   "cell_type": "code",
   "execution_count": null,
   "metadata": {},
   "outputs": [],
   "source": [
    "# def ByShell(shell, angTolerance=0.1)\n",
    "\n",
    "fV1 = Face.ByVertices([v9, v10, v11, v12])\n",
    "fV2 = Face.ByVertices([v11, v12, v13, v14])\n",
    "fV3 = Face.ByVertices([v13, v14, v9, v10])\n",
    "\n",
    "sh1 = Shell.ByFaces([fV1, fV2])\n",
    "sh2 = Shell.ByFaces([fV1, fV2, fV3])\n",
    "\n",
    "# case 1\n",
    "fs1 = Face.ByShell(sh1, 0.1)\n",
    "assert isinstance(fs1, topologic.Face), \"Face.ByShell. Should be topologic.Face\"\n",
    "\n",
    "# case 2\n",
    "fs2 = Face.ByShell(sh2, 0.01)\n",
    "assert isinstance(fs2, topologic.Face), \"Face.ByShell. Should be topologic.Face\"\n",
    "\n"
   ]
  },
  {
   "cell_type": "code",
   "execution_count": null,
   "metadata": {},
   "outputs": [],
   "source": [
    "# def ByVertices(vertices)\n",
    "#fV = Face by vertices\n",
    "\n",
    "# case 1\n",
    "fV1 = Face.ByVertices([v1, v2, v3, v4])\n",
    "assert isinstance(fV1, topologic.Face), \"Face.ByVertices. Should be topologic.Face\"\n",
    "\n",
    "# case 2\n",
    "fV2 = Face.ByVertices([tv1, tv2, tv3])\n",
    "assert isinstance(fV2, topologic.Face), \"Face.ByVertices. Should be topologic.Face\"\n"
   ]
  },
  {
   "cell_type": "code",
   "execution_count": null,
   "metadata": {},
   "outputs": [],
   "source": [
    "# def ByWire(wire)\n",
    "# fW = Face by wire\n",
    "w2 = Wire.ByVertices([v1, v2, v3, v4])\n",
    "\n",
    "# case 1\n",
    "fW1 = Face.ByWire(w1)\n",
    "assert isinstance (fW1, topologic.Face), \"Face.ByWire. Should be topologic.Face\"\n",
    "\n",
    "# case 2\n",
    "fW2 = Face.ByWire(w2)\n",
    "assert isinstance (fW2, topologic.Face), \"Face.ByWire. Should be topologic.Face\""
   ]
  },
  {
   "cell_type": "code",
   "execution_count": null,
   "metadata": {},
   "outputs": [],
   "source": [
    "# def ByWires(externalBoundary, internalBoundaries=[])\n",
    "# fWs = Face by wire(s)\n",
    "\n",
    "cW1 = Wire.Circle(v0, 5, 16)\n",
    "cW2 = Wire.Circle(v0, .5, 6)\n",
    "cW3 = Wire.Circle(v8, .3, 6)\n",
    "cW4 = Wire.Circle(v6, .4, 6)\n",
    "cW5 = Wire.Circle(v5, .4, 6)\n",
    "\n",
    "traW2 = Wire.Trapezoid(v0, 10, 20)\n",
    "# case 1\n",
    "fWs1 = Face.ByWires(cW1, [rec1, rec2, rec3])\n",
    "assert isinstance(fWs1, topologic.Face), \"Face.ByWires. Should be topologic.Face\"\n",
    "\n",
    "# Wt1 = Face.Wires(fWs1)\n",
    "# print(Wt1)\n",
    "\n",
    "# case 2\n",
    "fWs2 = Face.ByWires(traW2, [cW2, cW3, cW4, cW5])\n",
    "assert isinstance(fWs2, topologic.Face), \"Face.ByWires. Should be topologic.Face\"\n",
    "\n",
    "# Wt2 = Face.Wires(fWs2)\n",
    "# print(Wt2)\n"
   ]
  },
  {
   "cell_type": "code",
   "execution_count": null,
   "metadata": {},
   "outputs": [],
   "source": [
    "# def ByWiresCluster(externalBoundary, internalBoundariesCluster=None)\n",
    "\n",
    "clu5 = Cluster.ByTopologies([rec1, rec2, rec3])\n",
    "clu6 = Cluster.ByTopologies([cW2, cW3, cW4, cW5])\n",
    "\n",
    "# case 1\n",
    "fcW1 = Face.ByWiresCluster(cW1, clu5)\n",
    "assert isinstance(fcW1, topologic.Face), \"Face.ByWiresCluster, Should be topologic.Face\"\n",
    "\n",
    "# case 2\n",
    "fcW2 = Face.ByWiresCluster(cW1, clu6)\n",
    "assert isinstance(fcW2, topologic.Face), \"Face.ByWiresCluster, Should be topologic.Face\"\n"
   ]
  },
  {
   "cell_type": "code",
   "execution_count": null,
   "metadata": {},
   "outputs": [],
   "source": [
    "# def Circle(origin=None, radius=1, sides=16, fromAngle=0, toAngle=360, dirX=0, dirY=0, dirZ=1, placement='center', tolerance=0.0001)\n",
    "\n",
    "# case 1\n",
    "cF1 = Face.Circle(v0, 5.67, 8)\n",
    "assert isinstance(cF1, topologic.Face), \"Face.Circle. Should be topologic.Face\"\n",
    "\n",
    "# case 2\n",
    "cF2 = Face.Circle(v2, 4.85, 16, dirY= 1, tolerance= 0.01)\n",
    "assert isinstance(cF2, topologic.Face), \"Face.Circle. Should be topologic.Face\""
   ]
  },
  {
   "cell_type": "code",
   "execution_count": null,
   "metadata": {},
   "outputs": [],
   "source": [
    "# def Compactness(face, mantissa=4)\n",
    "\n",
    "# case 1\n",
    "fC1 = Face.Compactness(f1, 2)\n",
    "assert isinstance(fC1, float), \"Face.Compactness. Should be float\"\n",
    "\n",
    "# case 2\n",
    "fC2 = Face.Compactness(cF1,5)\n",
    "assert isinstance(fC2, float), \"Face.Compactness. Should be float\""
   ]
  },
  {
   "cell_type": "code",
   "execution_count": null,
   "metadata": {},
   "outputs": [],
   "source": [
    "# def Edges(face)\n",
    "\n",
    "# case 1\n",
    "fEdg1 = Face.Edges(f1)\n",
    "assert isinstance(fEdg1, list), \"Face.Edges. Should be list\"\n",
    "\n",
    "fEdg2 = Face.Edges(cF1)\n",
    "assert isinstance(fEdg1, list), \"Face.Edges. Should be list\"\n"
   ]
  },
  {
   "cell_type": "code",
   "execution_count": null,
   "metadata": {},
   "outputs": [
    {
     "name": "stdout",
     "output_type": "stream",
     "text": [
      "True\n"
     ]
    }
   ],
   "source": [
    "# def FacingToward(face, direction=[0, 0, -1], asVertex=False, tolerance=0.0001)\n",
    "\n",
    "ft1 = Face.FacingToward(f1, [0, 0, 1], True)\n",
    "assert isinstance(ft1, bool), \"Face.FacingToward. Should be Boolean\"\n",
    "\n",
    "ft2 = Face.FacingToward(cF1, [0,0,-1], False, 0.1)\n",
    "assert isinstance(ft2, bool), \"Face.FacingToward. Should be Boolean\""
   ]
  },
  {
   "cell_type": "code",
   "execution_count": null,
   "metadata": {},
   "outputs": [
    {
     "name": "stdout",
     "output_type": "stream",
     "text": [
      "<topologic.Face object at 0x0000020C763A7C30>\n",
      "<topologic.Face object at 0x0000020C7641B730>\n"
     ]
    }
   ],
   "source": [
    "# def Flatten(face)\n",
    "\n",
    "RecF = Face.Rectangle(v1, 5, 5, 45, 90, 15)\n",
    "CirF = Face.Circle(v5, 3, 16, dirX=1, dirZ=0)\n",
    "\n",
    "#case 1\n",
    "ff1 = Face.Flatten(CirF)\n",
    "assert isinstance(ff1, topologic.Face), \"Face.Flatten. Should be topologic.Face\"\n",
    "\n",
    "#case 2\n",
    "ff2 = Face.Flatten(RecF)\n",
    "assert isinstance(ff2, topologic.Face), \"Face.Flatten. Should be topologic.Face\""
   ]
  },
  {
   "cell_type": "code",
   "execution_count": null,
   "metadata": {},
   "outputs": [],
   "source": [
    "# def ExternalBoundary(face)\n",
    "\n",
    "# Case 1\n",
    "ExtB1 = Face.ExternalBoundary(intB1)\n",
    "assert isinstance(ExtB1, topologic.Wire), \"Face.ExternalBoundary. Should be topologic.Wire\"\n",
    "\n",
    "# Case 2\n",
    "ExtB2 = Face.ExternalBoundary(intB2)\n",
    "assert isinstance(ExtB2, topologic.Wire), \"Face.ExternalBoundary. Should be topologic.Wire\""
   ]
  },
  {
   "cell_type": "code",
   "execution_count": null,
   "metadata": {},
   "outputs": [],
   "source": [
    "# def InternalBoundaries(face)\n",
    "\n",
    "# Case 1\n",
    "IntB1 = Face.InternalBoundaries(intB1)\n",
    "assert isinstance(IntB1, list), \"Face.InternalBoundaries. Should be list\"\n",
    "\n",
    "# Case 2\n",
    "IntB2 = Face.InternalBoundaries(intB2)\n",
    "assert isinstance(IntB2, list), \"Face.InternalBoundaries. Should be list\""
   ]
  },
  {
   "cell_type": "code",
   "execution_count": null,
   "metadata": {},
   "outputs": [],
   "source": [
    "# def InternalVertex(face, tolerance=0.0001)\n",
    "\n",
    "# case 1\n",
    "iv1 = Face.InternalVertex(f1)\n",
    "assert isinstance(iv1, topologic.Vertex), \"Face.InternalVertex. Should be topologic.Vertex\"\n",
    "\n",
    "# case 2\n",
    "iv2 = Face.InternalVertex(c1)\n",
    "assert isinstance(iv2, topologic.Vertex), \"Face.InternalVertex. Should be topologic.Vertex\""
   ]
  },
  {
   "cell_type": "code",
   "execution_count": null,
   "metadata": {},
   "outputs": [],
   "source": [
    "# def Invert(face)\n",
    "\n",
    "IntF1 = Face.Invert(f1)\n",
    "assert isinstance(IntF1, topologic.Face), \"Face.Invert. Should be topologic.Face\"\n",
    "\n",
    "IntF2 = Face.Invert(c1)\n",
    "assert isinstance(IntF2, topologic.Face), \"Face.Invert. Should be topologic.Face\""
   ]
  },
  {
   "cell_type": "code",
   "execution_count": null,
   "metadata": {},
   "outputs": [
    {
     "ename": "NameError",
     "evalue": "name 'fV1' is not defined",
     "output_type": "error",
     "traceback": [
      "\u001b[1;31m---------------------------------------------------------------------------\u001b[0m",
      "\u001b[1;31mNameError\u001b[0m                                 Traceback (most recent call last)",
      "\u001b[1;32m<ipython-input-22-21c60e405f64>\u001b[0m in \u001b[0;36m<module>\u001b[1;34m\u001b[0m\n\u001b[0;32m      2\u001b[0m \u001b[1;33m\u001b[0m\u001b[0m\n\u001b[0;32m      3\u001b[0m \u001b[1;31m# case 1\u001b[0m\u001b[1;33m\u001b[0m\u001b[1;33m\u001b[0m\u001b[1;33m\u001b[0m\u001b[0m\n\u001b[1;32m----> 4\u001b[1;33m \u001b[0mchkC1\u001b[0m \u001b[1;33m=\u001b[0m \u001b[0mFace\u001b[0m\u001b[1;33m.\u001b[0m\u001b[0mIsCoplanar\u001b[0m\u001b[1;33m(\u001b[0m\u001b[0mfV1\u001b[0m\u001b[1;33m,\u001b[0m \u001b[0mfV2\u001b[0m\u001b[1;33m)\u001b[0m\u001b[1;33m\u001b[0m\u001b[1;33m\u001b[0m\u001b[0m\n\u001b[0m\u001b[0;32m      5\u001b[0m \u001b[1;32massert\u001b[0m \u001b[0misinstance\u001b[0m\u001b[1;33m(\u001b[0m\u001b[0mchkC1\u001b[0m\u001b[1;33m,\u001b[0m \u001b[0mbool\u001b[0m\u001b[1;33m)\u001b[0m\u001b[1;33m,\u001b[0m \u001b[1;34m\"Face.IsCoplanar. Should be boolean\"\u001b[0m\u001b[1;33m\u001b[0m\u001b[1;33m\u001b[0m\u001b[0m\n\u001b[0;32m      6\u001b[0m \u001b[1;33m\u001b[0m\u001b[0m\n",
      "\u001b[1;31mNameError\u001b[0m: name 'fV1' is not defined"
     ]
    }
   ],
   "source": [
    "# def IsCoplanar(faceA, faceB, tolerance=0.0001)\n",
    "\n",
    "# case 1\n",
    "chkC1 = Face.IsCoplanar(fV1, fV2)\n",
    "assert isinstance(chkC1, bool), \"Face.IsCoplanar. Should be boolean\"\n",
    "\n",
    "# case 2\n",
    "ChkC2 = Face.IsCoplanar(f1, c1)\n",
    "assert isinstance(ChkC2, bool), \"Face.IsCoplanar. Should be boolean\""
   ]
  },
  {
   "cell_type": "code",
   "execution_count": null,
   "metadata": {},
   "outputs": [],
   "source": [
    "# def IsInside(face, vertex, tolerance=0.0001)\n",
    "\n",
    "# case 1\n",
    "isIn1 = Face.IsInside(f1, v8, 0.001)\n",
    "assert isinstance(isIn1, bool), \"Face.IsInside. Should be boolean\"\n",
    "\n",
    "isIn2 = Face.IsInside(c1, tv4, 0.001)\n",
    "assert isinstance(isIn2, bool), \"Face.IsInside. Should be boolean\""
   ]
  },
  {
   "cell_type": "code",
   "execution_count": null,
   "metadata": {},
   "outputs": [
    {
     "name": "stdout",
     "output_type": "stream",
     "text": [
      "[0.55925, -0.0, 0.829]\n"
     ]
    }
   ],
   "source": [
    "# def NormalAtParameters(face, u=0.5, v=0.5, outputType='xyz', mantissa=4)\n",
    "\n",
    "# case 1\n",
    "np1 = Face.NormalAtParameters(fV1, .4, .5,'XYZ' , 5)\n",
    "assert isinstance(np1, list), \"Face.NormalAtParameters. Should be list\"\n",
    "\n",
    "np1_X = Face.NormalAtParameters(fV1, .4, .5,'X' , 5)\n",
    "assert isinstance(np1_X, list), \"Face.NormalAtParameters. Should be list\"\n",
    "\n",
    "np1_Y = Face.NormalAtParameters(fV1, .4, .5,'Y' , 5)\n",
    "assert isinstance(np1_Y, list), \"Face.NormalAtParameters. Should be list\"\n",
    "\n",
    "np1_Z = Face.NormalAtParameters(fV1, .4, .5,'Z' , 5)\n",
    "assert isinstance(np1_Y, list), \"Face.NormalAtParameters. Should be list\"\n",
    "\n",
    "# case 2\n",
    "np2 = Face.NormalAtParameters(fV3, .3, .9,'XYZ' , 5)\n",
    "assert isinstance(np2, list), \"Face.NormalAtParameters. Should be list\"\n",
    "\n",
    "np2_X = Face.NormalAtParameters(fV1, .4, .5,'X' , 5)\n",
    "assert isinstance(np2_X, list), \"Face.NormalAtParameters. Should be list\"\n",
    "\n",
    "np2_Y = Face.NormalAtParameters(fV1, .4, .5,'Y' , 5)\n",
    "assert isinstance(np2_Y, list), \"Face.NormalAtParameters. Should be list\"\n",
    "\n",
    "np2_Z = Face.NormalAtParameters(fV1, .4, .5,'Z' , 5)\n",
    "assert isinstance(np2_Y, list), \"Face.NormalAtParameters. Should be list\"\n"
   ]
  },
  {
   "cell_type": "code",
   "execution_count": null,
   "metadata": {},
   "outputs": [],
   "source": [
    "# def Project(faceA, faceB, direction=None, mantissa=4, tolerance=0.0001)\n",
    "c4 = Face.Circle((Vertex.ByCoordinates(3.7,2.5,20)), .5, 6)\n",
    "c5 = Face.Circle((Vertex.ByCoordinates(2.5, 4, 1)), 1, 16)\n",
    "r1 = Face.Rectangle((Vertex.ByCoordinates(3.7,2.5,1)), 10, 10, dirX= -1)\n",
    "\n",
    "\n",
    "# test 1\n",
    "pf1 = Face.Project(c4, r1, [0,0,-1], 2)\n",
    "assert isinstance(pf1, topologic.Face), \"Face.Project. Should be topologic.Face\"\n",
    "\n",
    "# test 2\n",
    "pf2 = Face.Project(c5, r1, [0,0,-1], 2)\n",
    "assert isinstance(pf2, topologic.Face), \"Face.Project. Should be topologic.Face\""
   ]
  },
  {
   "cell_type": "code",
   "execution_count": null,
   "metadata": {},
   "outputs": [],
   "source": [
    "# def Rectangle(origin=None, width=1.0, length=1.0, dirX=0, dirY=0, dirZ=1, placement='center', tolerance=0.0001)\n",
    "\n",
    "# case 1\n",
    "RecF1 = Face.Rectangle(v8, 3, 6)\n",
    "assert isinstance(RecF1, topologic.Face), \"Face.Rectangle. Should be topologic.Face\"\n",
    "\n",
    "# case 2\n",
    "RecF2 = Face.Rectangle(v8, 3.45, 6.78, 1, 1, 1, 'lowerleft', 0.01)\n",
    "assert isinstance(RecF1, topologic.Face), \"Face.Rectangle. Should be topologic.Face\""
   ]
  },
  {
   "cell_type": "code",
   "execution_count": null,
   "metadata": {},
   "outputs": [],
   "source": [
    "# def Star(origin=None, radiusA=1.0, radiusB=0.4, rays=5, dirX=0, dirY=0, dirZ=1, placement='center', tolerance=0.0001)\n",
    "\n",
    "# case 1\n",
    "StarF1 = Face.Star(v4, 2,.6,6,dirY=1, tolerance=0.001)\n",
    "assert isinstance(StarF1, topologic.Face), \"Face.Star. Should be topologic.Face\"\n",
    "\n",
    "# case 2\n",
    "StarF2 = Face.Star(v2, 2.5,.8,8,dirY=1,dirZ= 0, tolerance=0.001)\n",
    "assert isinstance(StarF2, topologic.Face), \"Face.Star. Should be topologic.Face\""
   ]
  },
  {
   "cell_type": "code",
   "execution_count": null,
   "metadata": {},
   "outputs": [],
   "source": [
    "# def Trapezoid(origin=None, widthA=1.0, widthB=0.75, offsetA=0.0, offsetB=0.0, length=1.0, dirX=0, dirY=0, dirZ=1, placement='center', tolerance=0.0001)\n",
    "\n",
    "# case 1\n",
    "TraF1 = Face.Trapezoid(v5, 3.25, 2.05, 1.2, .5)\n",
    "assert isinstance(TraF1, topologic.Face), \"Face.Trapezoid. Should be topologic.Face\"\n",
    "\n",
    "# case 2\n",
    "TraF2 = Face.Trapezoid(v7, 2.7, 1.15, .75, .25, dirX=1, dirZ=0)\n",
    "assert isinstance(TraF2, topologic.Face), \"Face.Trapezoid. Should be topologic.Face\""
   ]
  },
  {
   "cell_type": "code",
   "execution_count": null,
   "metadata": {},
   "outputs": [],
   "source": [
    "# def Triangulate(face)\n",
    "\n",
    "# case 1\n",
    "triS1 = Face.Triangulate(c1)\n",
    "assert isinstance(triS1, list), \"Face.Triangulate. Should be list\"\n",
    "\n",
    "# case 2\n",
    "triS2 = Face.Triangulate(intB_C2)\n",
    "assert isinstance(triS1, list), \"Face.Triangulate. Should be list\""
   ]
  },
  {
   "cell_type": "code",
   "execution_count": null,
   "metadata": {},
   "outputs": [],
   "source": [
    "# def TrimByWire(face, wire, reverse=False)\n",
    "\n",
    "tw1 = Wire.ByVertices([(Vertex.ByCoordinates(-4.7,-0.25,10)), (Vertex.ByCoordinates(20.6,9.8,10)), (Vertex.ByCoordinates(43.8,11.8,10))])\n",
    "\n",
    "# case 1\n",
    "to1 = Face.TrimByWire(fV1, tw1)\n",
    "assert isinstance(to1, topologic.Face), \"Face.TrimByWire. Should be topologic.Face\"\n",
    "\n",
    "# case 2\n",
    "to2 = Face.TrimByWire(fV2, tw1)\n",
    "assert isinstance(to2, topologic.Face), \"Face.TrimByWire. Should be topologic.Face\""
   ]
  },
  {
   "cell_type": "code",
   "execution_count": null,
   "metadata": {},
   "outputs": [],
   "source": [
    "# def VertexByParameters(face, u=0.5, v=0.5)\n",
    "\n",
    "# case 1\n",
    "vp1 = Face.VertexByParameters(c1, .65, .65)\n",
    "assert isinstance(vp1, topologic.Vertex), \"Face.VertexByParameters. Should be topologic.Vertex\"\n",
    "\n",
    "# case 2\n",
    "vp2 = Face.VertexByParameters(c1, .277, .65)\n",
    "assert isinstance(vp1, topologic.Vertex), \"Face.VertexByParameters. Should be topologic.Vertex\""
   ]
  },
  {
   "cell_type": "code",
   "execution_count": null,
   "metadata": {},
   "outputs": [],
   "source": [
    "# def VertexParameters(face, vertex, outputType='uv', mantissa=4)\n",
    "\n",
    "vps1 = Face.VertexParameters(c1, v1, 'uv', mantissa =7)\n",
    "assert isinstance(vps1, list), \"Face.VertexParameters. Should be list\"\n",
    "\n",
    "vps2 = Face.VertexParameters(f1, v0, 'uv')\n",
    "assert isinstance(vps2, list), \"Face.VertexParameters. Should be list\""
   ]
  },
  {
   "cell_type": "code",
   "execution_count": null,
   "metadata": {},
   "outputs": [],
   "source": [
    "# def Vertices(face)\n",
    "\n",
    "# case 1\n",
    "fVer1 = Face.Vertices(intB_C2)\n",
    "assert isinstance(fVer1, list), \"Face.Vertices. Should be list\"\n",
    "\n",
    "# case 2\n",
    "fVer2 = Face.Vertices(intB2)\n",
    "assert isinstance(fVer2, list), \"Face.Vertices. Should be list\""
   ]
  },
  {
   "cell_type": "code",
   "execution_count": null,
   "metadata": {},
   "outputs": [],
   "source": [
    "# def Wires(face)\n",
    "\n",
    "# case 1\n",
    "fWire1 = Face.Wires(intB_C2)\n",
    "assert isinstance(fWire1, list), \"Face.Wires. Should be list\"\n",
    "\n",
    "# case 2\n",
    "fWire2 = Face.Wires(intB2)\n",
    "assert isinstance(fWire2, list), \"Face.Wires. Should be list\""
   ]
  },
  {
   "cell_type": "code",
   "execution_count": null,
   "metadata": {},
   "outputs": [],
   "source": [
    "# def ByVerticesCluster(cluster)\n",
    "\n",
    "clu7 = Cluster.ByTopologies([v1, v2, v3, v4])\n",
    "Clu8 = Cluster.ByTopologies([tv1, tv2, tv3])\n",
    "\n",
    "# case 1\n",
    "fcV1 = Face.ByVerticesCluster(clu7)\n",
    "assert isinstance(fcV1, topologic.Face), \"Face.ByVerticesCluster. Should be topologic.Face\"\n",
    "\n",
    "# case 2\n",
    "fcV2 = Face.ByVerticesCluster(Clu8)\n",
    "assert isinstance(fcV2, topologic.Face), \"Face.ByVerticesCluster. Should be topologic.Face\""
   ]
  },
  {
   "cell_type": "code",
   "execution_count": null,
   "metadata": {},
   "outputs": [],
   "source": []
  }
 ],
 "metadata": {
  "kernelspec": {
   "display_name": "Python 3.8.8 ('base')",
   "language": "python",
   "name": "python3"
  },
  "language_info": {
   "codemirror_mode": {
    "name": "ipython",
    "version": 3
   },
   "file_extension": ".py",
   "mimetype": "text/x-python",
   "name": "python",
   "nbconvert_exporter": "python",
   "pygments_lexer": "ipython3",
   "version": "3.8.8"
  },
  "orig_nbformat": 4,
  "vscode": {
   "interpreter": {
    "hash": "d5b2151f520895d96024011eb601ad3676c0bf65eeb3027d60d487339ca76817"
   }
  }
 },
 "nbformat": 4,
 "nbformat_minor": 2
}
