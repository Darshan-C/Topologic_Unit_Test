{
 "cells": [
  {
   "cell_type": "markdown",
   "metadata": {},
   "source": [
    "Wire Classes unit test"
   ]
  },
  {
   "cell_type": "code",
   "execution_count": 2,
   "metadata": {},
   "outputs": [
    {
     "data": {
      "text/plain": [
       "'\\nerror: Wire.RemoveCollinearEdges outputs topologic.Edge instead of topologic.Wire\\nincomplete: def ByEdgesCluster, def ByOffset, def ByVerticesCluster, def Isovist, def Project def Split\\n'"
      ]
     },
     "execution_count": 2,
     "metadata": {},
     "output_type": "execute_result"
    }
   ],
   "source": [
    "\"\"\"\n",
    "error: Wire.RemoveCollinearEdges outputs topologic.Edge instead of topologic.Wire\n",
    "\n",
    "incomplete:  def ByOffset, , def Isovist, def Project, def Split\n",
    "\"\"\""
   ]
  },
  {
   "cell_type": "code",
   "execution_count": 24,
   "metadata": {},
   "outputs": [],
   "source": [
    "#Importing libraries\n",
    "\n",
    "from topologicpy import topologic\n",
    "from topologicpy.Vertex import Vertex\n",
    "from topologicpy.Edge import Edge\n",
    "from topologicpy.Wire import Wire\n",
    "from topologicpy.Face import Face\n",
    "from topologicpy.Cluster import Cluster"
   ]
  },
  {
   "cell_type": "code",
   "execution_count": 4,
   "metadata": {},
   "outputs": [],
   "source": [
    "#Objects created for testing\n",
    "\n",
    "# Creating vertices by coordinates\n",
    "v1 = Vertex.ByCoordinates(0, 0, 0)\n",
    "v2 = Vertex.ByCoordinates(5, 5, 5)\n",
    "v3 = Vertex.ByCoordinates(5, 10, 10)\n",
    "v4 = Vertex.ByCoordinates(10, 15, 15)\n",
    "v5 = Vertex.ByCoordinates(-2, 2, 0)\n",
    "v6 = Vertex.ByCoordinates(-2, -2, 0)\n",
    "v7 = Vertex.ByCoordinates(2, -2, 0)\n",
    "v8= Vertex.ByCoordinates(2, 2, 0)\n",
    "v9 = Vertex.ByCoordinates(1, 1, 0)\n",
    "v10 = Vertex.ByCoordinates(-1, -1, 0)\n",
    "\n",
    "\n",
    "\n",
    "\n",
    "# Creating edges by vertices\n",
    "e1 = Edge.ByVertices([v1,v2])\n",
    "e2 = Edge.ByVertices([v2,v3])\n",
    "e3 = Edge.ByVertices([v3,v4])\n",
    "e4 = Edge.ByVertices([v4, v1])\n",
    "e5 = Edge.ByVertices([v1, v2, v3, v4])\n"
   ]
  },
  {
   "cell_type": "code",
   "execution_count": 5,
   "metadata": {},
   "outputs": [],
   "source": [
    "#def ByEdges(edges)\n",
    "\n",
    "# Case 1\n",
    "w1 = Wire.ByEdges([e1,e2])\n",
    "assert isinstance(w1, topologic.Wire)\n",
    "\n",
    "# Case 2\n",
    "w2 = Wire.ByEdges([e1, e2, e3])\n",
    "assert isinstance(w2, topologic.Wire), \"Wire.ByEdges. Should be topologic.wire\""
   ]
  },
  {
   "cell_type": "code",
   "execution_count": 32,
   "metadata": {},
   "outputs": [
    {
     "name": "stdout",
     "output_type": "stream",
     "text": [
      "<topologic.Wire object at 0x000001E5F60D8030>\n"
     ]
    }
   ],
   "source": [
    "#def ByEdgesCluster(cluster)\n",
    "#clE = cluster_Edges, clw = cluster_wire\n",
    "clE1 = Cluster.ByTopologies([e1, e2, e3])\n",
    "clE2 = Cluster.ByTopologies([e3, e4, e1])\n",
    "\n",
    "# case 1\n",
    "clw1 = Wire.ByEdgesCluster(clE1)\n",
    "assert isinstance(clw1, topologic.Wire), \"Wire.ByEdgesCluster. Should be topologic.Wire\"\n",
    "\n",
    "# case 2\n",
    "clw2 = Wire.ByEdgesCluster(clE2)\n",
    "assert isinstance(clw2, topologic.Wire), \"Wire.ByEdgesCluster. Should be topologic.Wire\"\n"
   ]
  },
  {
   "cell_type": "code",
   "execution_count": 48,
   "metadata": {},
   "outputs": [
    {
     "name": "stdout",
     "output_type": "stream",
     "text": [
      "<topologic.Wire object at 0x000001E5F61192F0>\n"
     ]
    },
    {
     "ename": "NameError",
     "evalue": "name 'Vector' is not defined",
     "output_type": "error",
     "traceback": [
      "\u001b[1;31m---------------------------------------------------------------------------\u001b[0m",
      "\u001b[1;31mNameError\u001b[0m                                 Traceback (most recent call last)",
      "\u001b[1;32m<ipython-input-48-47069ef5d3a1>\u001b[0m in \u001b[0;36m<module>\u001b[1;34m\u001b[0m\n\u001b[0;32m      4\u001b[0m \u001b[0mr\u001b[0m \u001b[1;33m=\u001b[0m \u001b[0mWire\u001b[0m\u001b[1;33m.\u001b[0m\u001b[0mRectangle\u001b[0m\u001b[1;33m(\u001b[0m\u001b[0mv1\u001b[0m\u001b[1;33m,\u001b[0m \u001b[1;36m5\u001b[0m\u001b[1;33m,\u001b[0m \u001b[1;36m8\u001b[0m\u001b[1;33m)\u001b[0m\u001b[1;33m\u001b[0m\u001b[1;33m\u001b[0m\u001b[0m\n\u001b[0;32m      5\u001b[0m \u001b[0mprint\u001b[0m\u001b[1;33m(\u001b[0m\u001b[0mr\u001b[0m\u001b[1;33m)\u001b[0m\u001b[1;33m\u001b[0m\u001b[1;33m\u001b[0m\u001b[0m\n\u001b[1;32m----> 6\u001b[1;33m \u001b[0moffR\u001b[0m \u001b[1;33m=\u001b[0m \u001b[0mWire\u001b[0m\u001b[1;33m.\u001b[0m\u001b[0mByOffset\u001b[0m\u001b[1;33m(\u001b[0m\u001b[0mr\u001b[0m\u001b[1;33m,\u001b[0m \u001b[0moffset\u001b[0m\u001b[1;33m=\u001b[0m\u001b[1;36m1\u001b[0m\u001b[1;33m,\u001b[0m \u001b[0mreverse\u001b[0m\u001b[1;33m=\u001b[0m\u001b[1;32mFalse\u001b[0m\u001b[1;33m,\u001b[0m \u001b[0mtolerance\u001b[0m\u001b[1;33m=\u001b[0m\u001b[1;36m0.0001\u001b[0m\u001b[1;33m)\u001b[0m\u001b[1;33m\u001b[0m\u001b[1;33m\u001b[0m\u001b[0m\n\u001b[0m\u001b[0;32m      7\u001b[0m \u001b[1;33m\u001b[0m\u001b[0m\n\u001b[0;32m      8\u001b[0m \u001b[0mprint\u001b[0m\u001b[1;33m(\u001b[0m\u001b[0moffR\u001b[0m\u001b[1;33m)\u001b[0m\u001b[1;33m\u001b[0m\u001b[1;33m\u001b[0m\u001b[0m\n",
      "\u001b[1;32mc:\\Users\\DARSHAN.H.CHAVAN.H\\anaconda3\\lib\\site-packages\\topologicpy\\Wire.py\u001b[0m in \u001b[0;36mByOffset\u001b[1;34m(wire, offset, reverse, tolerance)\u001b[0m\n\u001b[0;32m    106\u001b[0m             \u001b[0mvrtx1\u001b[0m \u001b[1;33m=\u001b[0m \u001b[1;33m[\u001b[0m\u001b[0mexternal_vertices\u001b[0m\u001b[1;33m[\u001b[0m\u001b[0midx\u001b[0m\u001b[1;33m+\u001b[0m\u001b[1;36m1\u001b[0m\u001b[1;33m]\u001b[0m\u001b[1;33m.\u001b[0m\u001b[0mX\u001b[0m\u001b[1;33m(\u001b[0m\u001b[1;33m)\u001b[0m\u001b[1;33m,\u001b[0m \u001b[0mexternal_vertices\u001b[0m\u001b[1;33m[\u001b[0m\u001b[0midx\u001b[0m\u001b[1;33m+\u001b[0m\u001b[1;36m1\u001b[0m\u001b[1;33m]\u001b[0m\u001b[1;33m.\u001b[0m\u001b[0mY\u001b[0m\u001b[1;33m(\u001b[0m\u001b[1;33m)\u001b[0m\u001b[1;33m,\u001b[0m \u001b[0mexternal_vertices\u001b[0m\u001b[1;33m[\u001b[0m\u001b[0midx\u001b[0m\u001b[1;33m+\u001b[0m\u001b[1;36m1\u001b[0m\u001b[1;33m]\u001b[0m\u001b[1;33m.\u001b[0m\u001b[0mZ\u001b[0m\u001b[1;33m(\u001b[0m\u001b[1;33m)\u001b[0m\u001b[1;33m]\u001b[0m\u001b[1;33m\u001b[0m\u001b[1;33m\u001b[0m\u001b[0m\n\u001b[0;32m    107\u001b[0m             \u001b[0mvrtx2\u001b[0m \u001b[1;33m=\u001b[0m \u001b[1;33m[\u001b[0m\u001b[0mexternal_vertices\u001b[0m\u001b[1;33m[\u001b[0m\u001b[0midx\u001b[0m\u001b[1;33m-\u001b[0m\u001b[1;36m1\u001b[0m\u001b[1;33m]\u001b[0m\u001b[1;33m.\u001b[0m\u001b[0mX\u001b[0m\u001b[1;33m(\u001b[0m\u001b[1;33m)\u001b[0m\u001b[1;33m,\u001b[0m \u001b[0mexternal_vertices\u001b[0m\u001b[1;33m[\u001b[0m\u001b[0midx\u001b[0m\u001b[1;33m-\u001b[0m\u001b[1;36m1\u001b[0m\u001b[1;33m]\u001b[0m\u001b[1;33m.\u001b[0m\u001b[0mY\u001b[0m\u001b[1;33m(\u001b[0m\u001b[1;33m)\u001b[0m\u001b[1;33m,\u001b[0m \u001b[0mexternal_vertices\u001b[0m\u001b[1;33m[\u001b[0m\u001b[0midx\u001b[0m\u001b[1;33m-\u001b[0m\u001b[1;36m1\u001b[0m\u001b[1;33m]\u001b[0m\u001b[1;33m.\u001b[0m\u001b[0mZ\u001b[0m\u001b[1;33m(\u001b[0m\u001b[1;33m)\u001b[0m\u001b[1;33m]\u001b[0m\u001b[1;33m\u001b[0m\u001b[1;33m\u001b[0m\u001b[0m\n\u001b[1;32m--> 108\u001b[1;33m             \u001b[0mu\u001b[0m \u001b[1;33m=\u001b[0m \u001b[0mVector\u001b[0m\u001b[1;33m.\u001b[0m\u001b[0mNormalize\u001b[0m\u001b[1;33m(\u001b[0m\u001b[1;33m[\u001b[0m\u001b[1;33m(\u001b[0m\u001b[0mvrtx1\u001b[0m\u001b[1;33m[\u001b[0m\u001b[1;36m0\u001b[0m\u001b[1;33m]\u001b[0m \u001b[1;33m-\u001b[0m \u001b[0mvrtx\u001b[0m\u001b[1;33m[\u001b[0m\u001b[1;36m0\u001b[0m\u001b[1;33m]\u001b[0m\u001b[1;33m)\u001b[0m\u001b[1;33m,\u001b[0m \u001b[1;33m(\u001b[0m\u001b[0mvrtx1\u001b[0m\u001b[1;33m[\u001b[0m\u001b[1;36m1\u001b[0m\u001b[1;33m]\u001b[0m \u001b[1;33m-\u001b[0m \u001b[0mvrtx\u001b[0m\u001b[1;33m[\u001b[0m\u001b[1;36m1\u001b[0m\u001b[1;33m]\u001b[0m\u001b[1;33m)\u001b[0m\u001b[1;33m,\u001b[0m\u001b[1;33m(\u001b[0m\u001b[0mvrtx1\u001b[0m\u001b[1;33m[\u001b[0m\u001b[1;36m2\u001b[0m\u001b[1;33m]\u001b[0m \u001b[1;33m-\u001b[0m \u001b[0mvrtx\u001b[0m\u001b[1;33m[\u001b[0m\u001b[1;36m2\u001b[0m\u001b[1;33m]\u001b[0m\u001b[1;33m)\u001b[0m\u001b[1;33m]\u001b[0m\u001b[1;33m)\u001b[0m\u001b[1;33m\u001b[0m\u001b[1;33m\u001b[0m\u001b[0m\n\u001b[0m\u001b[0;32m    109\u001b[0m             \u001b[0mv\u001b[0m \u001b[1;33m=\u001b[0m \u001b[0mVector\u001b[0m\u001b[1;33m.\u001b[0m\u001b[0mNormalize\u001b[0m\u001b[1;33m(\u001b[0m\u001b[1;33m[\u001b[0m\u001b[1;33m(\u001b[0m\u001b[0mvrtx2\u001b[0m\u001b[1;33m[\u001b[0m\u001b[1;36m0\u001b[0m\u001b[1;33m]\u001b[0m \u001b[1;33m-\u001b[0m \u001b[0mvrtx\u001b[0m\u001b[1;33m[\u001b[0m\u001b[1;36m0\u001b[0m\u001b[1;33m]\u001b[0m\u001b[1;33m)\u001b[0m\u001b[1;33m,\u001b[0m \u001b[1;33m(\u001b[0m\u001b[0mvrtx2\u001b[0m\u001b[1;33m[\u001b[0m\u001b[1;36m1\u001b[0m\u001b[1;33m]\u001b[0m \u001b[1;33m-\u001b[0m \u001b[0mvrtx\u001b[0m\u001b[1;33m[\u001b[0m\u001b[1;36m1\u001b[0m\u001b[1;33m]\u001b[0m\u001b[1;33m)\u001b[0m\u001b[1;33m,\u001b[0m\u001b[1;33m(\u001b[0m\u001b[0mvrtx2\u001b[0m\u001b[1;33m[\u001b[0m\u001b[1;36m2\u001b[0m\u001b[1;33m]\u001b[0m \u001b[1;33m-\u001b[0m \u001b[0mvrtx\u001b[0m\u001b[1;33m[\u001b[0m\u001b[1;36m2\u001b[0m\u001b[1;33m]\u001b[0m\u001b[1;33m)\u001b[0m\u001b[1;33m]\u001b[0m\u001b[1;33m)\u001b[0m\u001b[1;33m\u001b[0m\u001b[1;33m\u001b[0m\u001b[0m\n\u001b[0;32m    110\u001b[0m             \u001b[0mev\u001b[0m \u001b[1;33m=\u001b[0m \u001b[0mexternal_vertices\u001b[0m\u001b[1;33m[\u001b[0m\u001b[0midx\u001b[0m\u001b[1;33m]\u001b[0m\u001b[1;33m\u001b[0m\u001b[1;33m\u001b[0m\u001b[0m\n",
      "\u001b[1;31mNameError\u001b[0m: name 'Vector' is not defined"
     ]
    }
   ],
   "source": [
    "#def ByOffset(wire, )\n",
    "''' Incomplete'''\n",
    "\n",
    "r = Wire.Rectangle(v1, 5, 8)\n",
    "print(r)\n",
    "offR = Wire.ByOffset(r, offset=1, reverse=False, tolerance=0.0001)\n",
    "\n",
    "print(offR)\n"
   ]
  },
  {
   "cell_type": "code",
   "execution_count": 8,
   "metadata": {},
   "outputs": [],
   "source": [
    "# def ByVertices(vertices, close=True)\n",
    "\n",
    "# Case 1\n",
    "w3 = Wire.ByVertices([v1,v2,v3,v4], False)\n",
    "assert isinstance(w3, topologic.Wire), \"Wire.ByVertices. Should be topologic.wire\"\n",
    "\n",
    "# Case 2\n",
    "w4 = Wire.ByVertices([v2, v3, v4], True)\n",
    "assert isinstance(w4, topologic.Wire), \"Wire.ByVertices. Should be topologic.wire\""
   ]
  },
  {
   "cell_type": "code",
   "execution_count": 39,
   "metadata": {},
   "outputs": [
    {
     "name": "stdout",
     "output_type": "stream",
     "text": [
      "123\n"
     ]
    }
   ],
   "source": [
    "# def ByVerticesCluster(cluster, close=True)\n",
    "# clV = Cluster_Vertices\n",
    "\n",
    "clV1 = Cluster.ByTopologies([v1,v2,v3,v4])\n",
    "clV2 = Cluster.ByTopologies([v5, v6, v7, v8])\n",
    "\n",
    "clw3 = Wire.ByVerticesCluster(clV1)\n",
    "assert isinstance(clw3, topologic.Wire), \"Wire.ByVerticesCluster. Should be topologic.Wire\"\n",
    "\n",
    "clw4 = Wire.ByVerticesCluster(clV2)\n",
    "assert isinstance(clw4, topologic.Wire), \"Wire.ByVerticesCluster. Should be topologic.Wire\""
   ]
  },
  {
   "cell_type": "code",
   "execution_count": 10,
   "metadata": {},
   "outputs": [],
   "source": [
    "# def CirclE(origin=None, radius=0.5, sides=16, fromAngle=0, toAngle=360, close=True, dirX=0, dirY=0, dirZ=1, placement='center', tolerance=0.0001)\n",
    "\n",
    "# Case 1\n",
    "Cir1 = Wire.CirclE(radius=2.0, sides=8) \n",
    "assert isinstance(Cir1, topologic.Wire), \"Wire.CirclE. Should be topologic.wire\"\n",
    "\n",
    "# Case 2\n",
    "Cir2 = Wire.CirclE(origin=v1, radius=3, sides=21, fromAngle=30, toAngle=360, close=False, dirX=1, dirY=1, dirZ=1, placement='center', tolerance=0.0001)\n",
    "assert isinstance(Cir2, topologic.Wire), \"Wire.CirclE. Should be topologic.wire\""
   ]
  },
  {
   "cell_type": "code",
   "execution_count": 11,
   "metadata": {},
   "outputs": [],
   "source": [
    "# def CyclEs(wire, maxVertices=4, tolerance=0.0001)\n",
    "\n",
    "# case 1\n",
    "Cyc1 = Wire.CyclEs(w4, 6, 0.0001)\n",
    "assert isinstance(Cyc1, list), \"Wire.CyclEs. Should be topologic.wire\"\n",
    "\n",
    "# case 2\n",
    "w5 = Wire.ByEdges([e1, e2, e3, e4])\n",
    "Cyc2 = Wire.CyclEs(w5, 6, 0.0001)\n",
    "assert isinstance(Cyc2, list), \"Wire.CyclEs. Should be topologic.wire\"\n"
   ]
  },
  {
   "cell_type": "code",
   "execution_count": 12,
   "metadata": {},
   "outputs": [],
   "source": [
    "# def Edges(wire)\n",
    "\n",
    "# case 1\n",
    "Edg1 = Wire.Edges(w3)\n",
    "assert isinstance(Edg1, list), \"Wire.Edges. Should be list\"\n",
    "\n",
    "# case 2\n",
    "Edg2 = Wire.Edges(w5)\n",
    "assert  isinstance(Edg2, list), \"Wire.Edges. Should be list\"\n"
   ]
  },
  {
   "cell_type": "code",
   "execution_count": 13,
   "metadata": {},
   "outputs": [],
   "source": [
    "# def Ellipse (origin=None, inputMode=1, width=2.0, length=1.0, focalLength=0.866025, eccentricity=0.866025, majorAxisLength=1.0, minorAxisLength=0.5, sides=32, fromAngle=0, toAngle=360, close=True, dirX=0, dirY=0, dirZ=1, placement='center', tolerance=0.0001)\n",
    "\n",
    "# case 1\n",
    "Elp1 = Wire.Ellipse(v1, 1, 2, 6)\n",
    "assert isinstance(Elp1, topologic.Wire), \"Wire.Ellipse. Should be topologic.Wire\"\n",
    "\n",
    "# case 2\n",
    "Elp2 = Wire.Ellipse(origin=None, inputMode=1, width=2.0, length=1.0, focalLength=0.866025, eccentricity=0.866025, majorAxisLength=1.0, minorAxisLength=0.5, sides=32, fromAngle=0, toAngle=360, close=True, dirX=0, dirY=0, dirZ=1, placement='center', tolerance=0.0001)\n",
    "assert isinstance(Elp2, topologic.Wire), \"Wire.Ellipse. Should be topologic.Wire\"\n",
    "\n",
    "Elp3 = Wire.Ellipse(v2, 2, 3.5, 2.5, 0.866025, 0.866025, 1.0, 1, 16, 15, 270, 0,0,1, placement='lowerleft', tolerance= 0.0001)\n",
    "assert isinstance(Elp3, topologic.Wire), \"Wire.Ellipse. Should be topologic.Wire\""
   ]
  },
  {
   "cell_type": "code",
   "execution_count": 14,
   "metadata": {},
   "outputs": [],
   "source": [
    "# def EllipseAll(origin=None, inputMode=1, width=2.0, length=1.0, focalLength=0.866025, eccentricity=0.866025, majorAxisLength=1.0, minorAxisLength=0.5, sides=32, fromAngle=0, toAngle=360, close=True, dirX=0, dirY=0, dirZ=1, placement='center', tolerance=0.0001)\n",
    "\n",
    "# case 1\n",
    "Elp3 = Wire.EllipseAll(v3, 3, 3, 7, 0.4, 0.6, 2.0, 1, 16)\n",
    "assert isinstance(Elp3, dict), \"Wire.Ellipse. Should be dictionary\"\n",
    "\n",
    "# case 2\n",
    "Elp4 = Wire.EllipseAll(origin=v3, width=2.5, length=5, sides=13, close=True, dirY=1, dirZ=0)\n",
    "assert isinstance(Elp4, dict), \"Wire.Ellipse. Should be dictionary\""
   ]
  },
  {
   "cell_type": "code",
   "execution_count": 15,
   "metadata": {},
   "outputs": [],
   "source": [
    "# def IsClosed(wire)\n",
    "# Checking if wire closed or not\n",
    "\n",
    "# case 1\n",
    "Chk_W1 = Wire.IsClosed(w1)\n",
    "assert isinstance(Chk_W1, bool), \"Wire.Ellipse. Should be boolean\"\n",
    "\n",
    "# case 2\n",
    "Chk_W2 = Wire.IsClosed(w5)\n",
    "assert isinstance(Chk_W2, bool), \"Wire.Ellipse. Should be boolean\""
   ]
  },
  {
   "cell_type": "code",
   "execution_count": 16,
   "metadata": {},
   "outputs": [],
   "source": [
    "# def IsSimilar(wireA, wireB, tolerance=0.0001, angTolerance=0.1)\n",
    "\n",
    "Rec1 = Wire.Rectangle(v1, 2, 3)\n",
    "Rec2 = Wire.Rectangle(v2, 2, 3)\n",
    "Rec3 = Wire.Rectangle(v3, 3, 2)\n",
    "\n",
    "# case 1\n",
    "Chk_W3 = Wire.IsSimilar(Rec1, Rec2)\n",
    "assert isinstance(Chk_W3, bool), \"Wire.IsSimilar. Should be boolean\"\n",
    "\n",
    "# case 2\n",
    "Chk_W4 = Wire.IsSimilar(Rec2,Rec3)\n",
    "assert isinstance(Chk_W4, bool), \"Wire.IsSimilar. Should be boolean\"\n",
    "\n",
    "# case 3\n",
    "Chk_W5 = Wire.IsSimilar(Rec1, Cir1)\n",
    "assert isinstance(Chk_W5, bool), \"Wire.IsSimilar. Should be boolean\"\n"
   ]
  },
  {
   "cell_type": "code",
   "execution_count": 17,
   "metadata": {},
   "outputs": [
    {
     "data": {
      "text/plain": [
       "' Incomplete'"
      ]
     },
     "execution_count": 17,
     "metadata": {},
     "output_type": "execute_result"
    }
   ],
   "source": [
    "# def Isovist(viewPoint, externalBoundary, obstaclEsCluster)\n",
    "''' Incomplete'''"
   ]
  },
  {
   "cell_type": "code",
   "execution_count": 18,
   "metadata": {},
   "outputs": [],
   "source": [
    "# def Length(wire, mantissa=4)\n",
    "\n",
    "# case 1\n",
    "wLen1 = Wire.Length(w1, 2)\n",
    "assert isinstance(wLen1, float), \"Wire.Length. Should be float\"\n",
    "\n",
    "# case 2\n",
    "wLen2 = Wire.Length(w4, 6)\n",
    "assert isinstance(wLen2, float), \"Wire.Length. Should be float\""
   ]
  },
  {
   "cell_type": "code",
   "execution_count": 19,
   "metadata": {},
   "outputs": [],
   "source": [
    "# def Planarize(wire)\n",
    "# npW = Nonplanar_Wire, pW = Planar_Wire\n",
    "\n",
    "npW1 = Wire.ByVertices([v1, v2, v3])\n",
    "npW2 = Wire.ByVertices([v6, v4, v3, v1])\n",
    "\n",
    "# case 1\n",
    "pW1 = Wire.Planarize(npW1)\n",
    "assert isinstance(pW1, topologic.Wire), \"Wire.Planarize. Should be topologic.Wire\"\n",
    "\n",
    "# case 2\n",
    "pW2 = Wire.Planarize(npW2)\n",
    "assert isinstance(npW2, topologic.Wire), \"Wire.Planarize. Should be topologic.Wire\"\n",
    "\n"
   ]
  },
  {
   "cell_type": "code",
   "execution_count": 20,
   "metadata": {},
   "outputs": [
    {
     "name": "stdout",
     "output_type": "stream",
     "text": [
      "<topologic.Face object at 0x000001E5F5BA4B70>\n",
      "<topologic.Wire object at 0x000001E5F60D11B0>\n",
      "None\n"
     ]
    }
   ],
   "source": [
    "# def Project(wire, face, direction=None, mantissa=4, tolerance=0.0001)\n",
    "\n",
    "'''\n",
    "Incomplete\n",
    "'''\n",
    "\n",
    "f1 = Face.ByVertices([v5, v6, v7, v8])\n",
    "print(f1)\n",
    "w6 = Wire.ByVertices([v9, v1, v10])\n",
    "print(w6)\n",
    "Pro1 = Wire.Project(w6, f1, [0,0,1])\n",
    "\n",
    "print(Pro1)"
   ]
  },
  {
   "cell_type": "code",
   "execution_count": 21,
   "metadata": {},
   "outputs": [],
   "source": [
    "# def Rectangle(origin=None, width=1.0, length=1.0, dirX=0, dirY=0, dirZ=1, placement='center', tolerance=0.0001)\n",
    "\n",
    "# case 1\n",
    "rec1 = Wire.Rectangle(v1, 4, 6)\n",
    "assert isinstance(rec1, topologic.Wire), \"Wire.Rectangle. Should be topologic.Wire\"\n",
    "\n",
    "# case 2\n",
    "rec2 = Wire.Rectangle(v2, 3, 7, 1, 0, 0)\n",
    "assert isinstance(rec2, topologic.Wire), \"Wire.Rectangle. Should be topologic.Wire\""
   ]
  },
  {
   "cell_type": "code",
   "execution_count": 22,
   "metadata": {},
   "outputs": [
    {
     "ename": "AssertionError",
     "evalue": "Wire.RemoveCollinearEdges. Should be topologic.Wire",
     "output_type": "error",
     "traceback": [
      "\u001b[1;31m---------------------------------------------------------------------------\u001b[0m",
      "\u001b[1;31mAssertionError\u001b[0m                            Traceback (most recent call last)",
      "\u001b[1;32m<ipython-input-22-e68f288cdd98>\u001b[0m in \u001b[0;36m<module>\u001b[1;34m\u001b[0m\n\u001b[0;32m      7\u001b[0m \u001b[1;31m# case 1\u001b[0m\u001b[1;33m\u001b[0m\u001b[1;33m\u001b[0m\u001b[1;33m\u001b[0m\u001b[0m\n\u001b[0;32m      8\u001b[0m \u001b[0mce1\u001b[0m \u001b[1;33m=\u001b[0m \u001b[0mWire\u001b[0m\u001b[1;33m.\u001b[0m\u001b[0mRemoveCollinearEdges\u001b[0m\u001b[1;33m(\u001b[0m\u001b[0mcw1\u001b[0m\u001b[1;33m)\u001b[0m\u001b[1;33m\u001b[0m\u001b[1;33m\u001b[0m\u001b[0m\n\u001b[1;32m----> 9\u001b[1;33m \u001b[1;32massert\u001b[0m \u001b[0misinstance\u001b[0m\u001b[1;33m(\u001b[0m\u001b[0mce1\u001b[0m\u001b[1;33m,\u001b[0m \u001b[0mtopologic\u001b[0m\u001b[1;33m.\u001b[0m\u001b[0mWire\u001b[0m\u001b[1;33m)\u001b[0m\u001b[1;33m,\u001b[0m \u001b[1;34m\"Wire.RemoveCollinearEdges. Should be topologic.Wire\"\u001b[0m\u001b[1;33m\u001b[0m\u001b[1;33m\u001b[0m\u001b[0m\n\u001b[0m\u001b[0;32m     10\u001b[0m \u001b[1;33m\u001b[0m\u001b[0m\n\u001b[0;32m     11\u001b[0m \u001b[1;31m# case 2\u001b[0m\u001b[1;33m\u001b[0m\u001b[1;33m\u001b[0m\u001b[1;33m\u001b[0m\u001b[0m\n",
      "\u001b[1;31mAssertionError\u001b[0m: Wire.RemoveCollinearEdges. Should be topologic.Wire"
     ]
    }
   ],
   "source": [
    "# def RemoveCollinearEdges(wire, angTolerance=0.1)\n",
    "# cw = CollinearWire, ce = collinearEdge\n",
    "\n",
    "cw1 = Wire.ByVertices([v6, v1, v8])\n",
    "cw2 = Wire.ByVertices([v5, v1, v7])\n",
    "\n",
    "# case 1\n",
    "ce1 = Wire.RemoveCollinearEdges(cw1)\n",
    "assert isinstance(ce1, topologic.Wire), \"Wire.RemoveCollinearEdges. Should be topologic.Wire\"\n",
    "\n",
    "# case 2\n",
    "ce2 = Wire.RemoveCollinearEdges(cw2)\n",
    "assert isinstance(ce2, topologic.Wire), \"Wire.RemoveCollinearEdges. Should be topologic.Wire\"\n",
    "\n",
    "\n",
    "\"\"\"\n",
    "Output gives topologic.Edge instead of topologic.Wire\n",
    "\"\"\""
   ]
  },
  {
   "cell_type": "code",
   "execution_count": null,
   "metadata": {},
   "outputs": [
    {
     "name": "stdout",
     "output_type": "stream",
     "text": [
      "[<topologic.Wire object at 0x00000287D0461370>]\n"
     ]
    }
   ],
   "source": [
    "# def Split(wire)\n",
    "\"\"\"\n",
    "Incomplete\n",
    "\"\"\"\n",
    "w7 = Wire.ByVertices([v6, v1, v8, v2, v4])\n",
    "\n",
    "Spl1 = Wire.Split(w7)\n",
    "print (Spl1)"
   ]
  },
  {
   "cell_type": "code",
   "execution_count": null,
   "metadata": {},
   "outputs": [],
   "source": [
    "# def Star(origin=None, radiusA=1.0, radiusB=0.4, rays=5, dirX=0, dirY=0, dirZ=1, placement='center', tolerance=0.0001)\n",
    "\n",
    "# case 1\n",
    "s1 = Wire.Star(v3, 2, 5, 6, 1, 1, 1, 'lowerleft', 0.0001)\n",
    "assert isinstance(s1, topologic.Wire), \"Wire.Star. Should be topologic.Wire\"\n",
    "\n",
    "# case 2\n",
    "s2 = Wire.Star(origin=v4, radiusB=5, dirY=1)\n",
    "assert isinstance(s2, topologic.Wire), \"Wire.Star. Should be topologic.Wire\"\n"
   ]
  },
  {
   "cell_type": "code",
   "execution_count": null,
   "metadata": {},
   "outputs": [],
   "source": [
    "# def Trapezoid(origin=None, widthA=1.0, widthB=0.75, offsetA=0.0, offsetB=0.0, length=1.0, dirX=0, dirY=0, dirZ=1, placement='center', tolerance=0.0001)\n",
    "\n",
    "# case 1\n",
    "t1 = Wire.Trapezoid(v2, 1.2, 1, 0.5, .5, 1, 1, 0, 1, 'lowerleft', 0.0001)\n",
    "assert isinstance(t1, topologic.Wire), \"Wire.Trapezoid. Should be topologic.Wire\"\n",
    "\n",
    "# case 2\n",
    "t2 =Wire.Trapezoid(origin=v5, widthA=1.3, widthB=0.85, offsetA=0.8, offsetB=0.7, length=2.0, dirX=1, dirY=1, dirZ=1, placement='center', tolerance=0.0001)\n",
    "assert isinstance(t2, topologic.Wire), \"Wire.Trapezoid. Should be topologic.Wire\""
   ]
  },
  {
   "cell_type": "code",
   "execution_count": null,
   "metadata": {},
   "outputs": [],
   "source": [
    "# def Vertices(wire)\n",
    "# wv = wire_vertices\n",
    "\n",
    "# case 1\n",
    "wv1 = Wire.Vertices(w3)\n",
    "assert isinstance(wv1, list), \"Wire.Vertices. Should be list\"\n",
    "\n",
    "# case 2\n",
    "wv2 = Wire.Vertices(w6)\n",
    "assert isinstance(wv2, list), \"Wire.Vertices. Should be list\""
   ]
  },
  {
   "cell_type": "code",
   "execution_count": null,
   "metadata": {},
   "outputs": [],
   "source": []
  }
 ],
 "metadata": {
  "kernelspec": {
   "display_name": "Python 3.9.10 64-bit",
   "language": "python",
   "name": "python3"
  },
  "language_info": {
   "codemirror_mode": {
    "name": "ipython",
    "version": 3
   },
   "file_extension": ".py",
   "mimetype": "text/x-python",
   "name": "python",
   "nbconvert_exporter": "python",
   "pygments_lexer": "ipython3",
   "version": "3.9.10"
  },
  "orig_nbformat": 4,
  "vscode": {
   "interpreter": {
    "hash": "ad817a0f07713e3b96293baabbcb78806adb502bed2df61b526ffef1e3f0d8d3"
   }
  }
 },
 "nbformat": 4,
 "nbformat_minor": 2
}
