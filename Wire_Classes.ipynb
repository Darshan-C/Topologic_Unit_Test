{
 "cells": [
  {
   "cell_type": "markdown",
   "metadata": {},
   "source": [
    "Wire Classes unit test"
   ]
  },
  {
   "cell_type": "code",
   "execution_count": 2,
   "metadata": {},
   "outputs": [
    {
     "data": {
      "text/plain": [
       "'\\nerror: Wire.RemoveCollinearEdges outputs topologic.Edge instead of topologic.Wire\\n\\nincomplete:  def ByOffset, , def Isovist, def Project\\n'"
      ]
     },
     "execution_count": 2,
     "metadata": {},
     "output_type": "execute_result"
    }
   ],
   "source": [
    "\"\"\"\n",
    "error: Wire.RemoveCollinearEdges outputs topologic.Edge instead of topologic.Wire\n",
    "\n",
    "incomplete:  def ByOffset, , def Isovist, def Project\n",
    "\"\"\""
   ]
  },
  {
   "cell_type": "code",
   "execution_count": 8,
   "metadata": {},
   "outputs": [],
   "source": [
    "#Importing libraries\n",
    "\n",
    "from topologicpy import topologic\n",
    "from topologicpy.Vertex import Vertex\n",
    "from topologicpy.Edge import Edge\n",
    "from topologicpy.Wire import Wire\n",
    "from topologicpy.Face import Face\n",
    "from topologicpy.Cluster import Cluster"
   ]
  },
  {
   "cell_type": "code",
   "execution_count": 4,
   "metadata": {},
   "outputs": [],
   "source": [
    "#Objects created for testing\n",
    "\n",
    "# Creating vertices by coordinates\n",
    "v1 = Vertex.ByCoordinates(0, 0, 0)\n",
    "v2 = Vertex.ByCoordinates(5, 5, 5)\n",
    "v3 = Vertex.ByCoordinates(5, 10, 10)\n",
    "v4 = Vertex.ByCoordinates(10, 15, 15)\n",
    "v5 = Vertex.ByCoordinates(-2, 2, 0)\n",
    "v6 = Vertex.ByCoordinates(-2, -2, 0)\n",
    "v7 = Vertex.ByCoordinates(2, -2, 0)\n",
    "v8= Vertex.ByCoordinates(2, 2, 0)\n",
    "v9 = Vertex.ByCoordinates(1, 1, 0)\n",
    "v10 = Vertex.ByCoordinates(-1, -1, 0)\n",
    "v11 = Vertex.ByCoordinates(-4, -2, 0)\n",
    "v12 = Vertex.ByCoordinates(2, -4, 0)\n",
    "\n",
    "\n",
    "\n",
    "# Creating edges by vertices\n",
    "e1 = Edge.ByVertices([v1,v2])\n",
    "e2 = Edge.ByVertices([v2,v3])\n",
    "e3 = Edge.ByVertices([v3,v4])\n",
    "e4 = Edge.ByVertices([v4, v1])\n",
    "e5 = Edge.ByVertices([v1, v2, v3, v4])\n"
   ]
  },
  {
   "cell_type": "code",
   "execution_count": 5,
   "metadata": {},
   "outputs": [],
   "source": [
    "#def ByEdges(edges)\n",
    "\n",
    "# Case 1\n",
    "w1 = Wire.ByEdges([e1,e2])\n",
    "assert isinstance(w1, topologic.Wire)\n",
    "\n",
    "# Case 2\n",
    "w2 = Wire.ByEdges([e1, e2, e3])\n",
    "assert isinstance(w2, topologic.Wire), \"Wire.ByEdges. Should be topologic.wire\""
   ]
  },
  {
   "cell_type": "code",
   "execution_count": 6,
   "metadata": {},
   "outputs": [],
   "source": [
    "#def ByEdgesCluster(cluster)\n",
    "#clE = cluster_Edges, clw = cluster_wire\n",
    "clE1 = Cluster.ByTopologies([e1, e2, e3])\n",
    "clE2 = Cluster.ByTopologies([e3, e4, e1])\n",
    "\n",
    "# case 1\n",
    "clw1 = Wire.ByEdgesCluster(clE1)\n",
    "assert isinstance(clw1, topologic.Wire), \"Wire.ByEdgesCluster. Should be topologic.Wire\"\n",
    "\n",
    "# case 2\n",
    "clw2 = Wire.ByEdgesCluster(clE2)\n",
    "assert isinstance(clw2, topologic.Wire), \"Wire.ByEdgesCluster. Should be topologic.Wire\"\n"
   ]
  },
  {
   "cell_type": "code",
   "execution_count": 7,
   "metadata": {},
   "outputs": [
    {
     "ename": "NameError",
     "evalue": "name 'r' is not defined",
     "output_type": "error",
     "traceback": [
      "\u001b[1;31m---------------------------------------------------------------------------\u001b[0m",
      "\u001b[1;31mNameError\u001b[0m                                 Traceback (most recent call last)",
      "\u001b[1;32m<ipython-input-7-b31b05df7486>\u001b[0m in \u001b[0;36m<module>\u001b[1;34m\u001b[0m\n\u001b[0;32m      3\u001b[0m \u001b[1;33m\u001b[0m\u001b[0m\n\u001b[0;32m      4\u001b[0m \u001b[0mrec\u001b[0m \u001b[1;33m=\u001b[0m \u001b[0mWire\u001b[0m\u001b[1;33m.\u001b[0m\u001b[0mRectangle\u001b[0m\u001b[1;33m(\u001b[0m\u001b[0mv1\u001b[0m\u001b[1;33m,\u001b[0m \u001b[1;36m5\u001b[0m\u001b[1;33m,\u001b[0m \u001b[1;36m8\u001b[0m\u001b[1;33m)\u001b[0m\u001b[1;33m\u001b[0m\u001b[1;33m\u001b[0m\u001b[0m\n\u001b[1;32m----> 5\u001b[1;33m \u001b[0mprint\u001b[0m\u001b[1;33m(\u001b[0m\u001b[0mr\u001b[0m\u001b[1;33m)\u001b[0m\u001b[1;33m\u001b[0m\u001b[1;33m\u001b[0m\u001b[0m\n\u001b[0m\u001b[0;32m      6\u001b[0m \u001b[0moffR\u001b[0m \u001b[1;33m=\u001b[0m \u001b[0mWire\u001b[0m\u001b[1;33m.\u001b[0m\u001b[0mByOffset\u001b[0m\u001b[1;33m(\u001b[0m\u001b[0mrec\u001b[0m\u001b[1;33m,\u001b[0m \u001b[0moffset\u001b[0m\u001b[1;33m=\u001b[0m\u001b[1;36m1\u001b[0m\u001b[1;33m,\u001b[0m \u001b[0mreverse\u001b[0m\u001b[1;33m=\u001b[0m\u001b[1;32mFalse\u001b[0m\u001b[1;33m,\u001b[0m \u001b[0mtolerance\u001b[0m\u001b[1;33m=\u001b[0m\u001b[1;36m0.0001\u001b[0m\u001b[1;33m)\u001b[0m\u001b[1;33m\u001b[0m\u001b[1;33m\u001b[0m\u001b[0m\n\u001b[0;32m      7\u001b[0m \u001b[0mprint\u001b[0m\u001b[1;33m(\u001b[0m\u001b[0moffR\u001b[0m\u001b[1;33m)\u001b[0m\u001b[1;33m\u001b[0m\u001b[1;33m\u001b[0m\u001b[0m\n",
      "\u001b[1;31mNameError\u001b[0m: name 'r' is not defined"
     ]
    }
   ],
   "source": [
    "#def ByOffset(wire, )\n",
    "''' Incomplete'''\n",
    "\n",
    "rec = Wire.Rectangle(v1, 5, 8)\n",
    "print(r)\n",
    "offR = Wire.ByOffset(rec, offset=1, reverse=False, tolerance=0.0001)\n",
    "print(offR)\n",
    "# \n",
    "# offE = Wire.ByOffset(e1, .5, True, 0.0001)\n"
   ]
  },
  {
   "cell_type": "code",
   "execution_count": null,
   "metadata": {},
   "outputs": [],
   "source": [
    "# def ByVertices(vertices, close=True)\n",
    "\n",
    "# Case 1\n",
    "w3 = Wire.ByVertices([v1,v2,v3,v4], False)\n",
    "assert isinstance(w3, topologic.Wire), \"Wire.ByVertices. Should be topologic.wire\"\n",
    "\n",
    "# Case 2\n",
    "w4 = Wire.ByVertices([v2, v3, v4], True)\n",
    "assert isinstance(w4, topologic.Wire), \"Wire.ByVertices. Should be topologic.wire\""
   ]
  },
  {
   "cell_type": "code",
   "execution_count": null,
   "metadata": {},
   "outputs": [
    {
     "name": "stdout",
     "output_type": "stream",
     "text": [
      "123\n"
     ]
    }
   ],
   "source": [
    "# def ByVerticesCluster(cluster, close=True)\n",
    "# clV = Cluster_Vertices\n",
    "\n",
    "clV1 = Cluster.ByTopologies([v1,v2,v3,v4])\n",
    "clV2 = Cluster.ByTopologies([v5, v6, v7, v8])\n",
    "\n",
    "clw3 = Wire.ByVerticesCluster(clV1)\n",
    "assert isinstance(clw3, topologic.Wire), \"Wire.ByVerticesCluster. Should be topologic.Wire\"\n",
    "\n",
    "clw4 = Wire.ByVerticesCluster(clV2)\n",
    "assert isinstance(clw4, topologic.Wire), \"Wire.ByVerticesCluster. Should be topologic.Wire\""
   ]
  },
  {
   "cell_type": "code",
   "execution_count": null,
   "metadata": {},
   "outputs": [],
   "source": [
    "# def CirclE(origin=None, radius=0.5, sides=16, fromAngle=0, toAngle=360, close=True, dirX=0, dirY=0, dirZ=1, placement='center', tolerance=0.0001)\n",
    "\n",
    "# Case 1\n",
    "Cir1 = Wire.CirclE(radius=2.0, sides=8) \n",
    "assert isinstance(Cir1, topologic.Wire), \"Wire.CirclE. Should be topologic.wire\"\n",
    "\n",
    "# Case 2\n",
    "Cir2 = Wire.CirclE(origin=v1, radius=3, sides=21, fromAngle=30, toAngle=360, close=False, dirX=1, dirY=1, dirZ=1, placement='center', tolerance=0.0001)\n",
    "assert isinstance(Cir2, topologic.Wire), \"Wire.CirclE. Should be topologic.wire\""
   ]
  },
  {
   "cell_type": "code",
   "execution_count": null,
   "metadata": {},
   "outputs": [],
   "source": [
    "# def Cycles(wire, maxVertices=4, tolerance=0.0001)\n",
    "\n",
    "# case 1\n",
    "Cyc1 = Wire.Cycles(w4, 6, 0.0001)\n",
    "assert isinstance(Cyc1, list), \"Wire.Cycles. Should be topologic.wire\"\n",
    "\n",
    "# case 2\n",
    "w5 = Wire.ByEdges([e1, e2, e3, e4])\n",
    "Cyc2 = Wire.Cycles(w5, 6, 0.0001)\n",
    "assert isinstance(Cyc2, list), \"Wire.Cycles. Should be topologic.wire\""
   ]
  },
  {
   "cell_type": "code",
   "execution_count": null,
   "metadata": {},
   "outputs": [],
   "source": [
    "# def Edges(wire)\n",
    "\n",
    "# case 1\n",
    "Edg1 = Wire.Edges(w3)\n",
    "assert isinstance(Edg1, list), \"Wire.Edges. Should be list\"\n",
    "\n",
    "# case 2\n",
    "Edg2 = Wire.Edges(w5)\n",
    "assert  isinstance(Edg2, list), \"Wire.Edges. Should be list\"\n"
   ]
  },
  {
   "cell_type": "code",
   "execution_count": null,
   "metadata": {},
   "outputs": [],
   "source": [
    "# def Ellipse (origin=None, inputMode=1, width=2.0, length=1.0, focalLength=0.866025, eccentricity=0.866025, majorAxisLength=1.0, minorAxisLength=0.5, sides=32, fromAngle=0, toAngle=360, close=True, dirX=0, dirY=0, dirZ=1, placement='center', tolerance=0.0001)\n",
    "\n",
    "# case 1\n",
    "Elp1 = Wire.Ellipse(v1, 1, 2, 6)\n",
    "assert isinstance(Elp1, topologic.Wire), \"Wire.Ellipse. Should be topologic.Wire\"\n",
    "\n",
    "# case 2\n",
    "Elp2 = Wire.Ellipse(origin=None, inputMode=1, width=2.0, length=1.0, focalLength=0.866025, eccentricity=0.866025, majorAxisLength=1.0, minorAxisLength=0.5, sides=32, fromAngle=0, toAngle=360, close=True, dirX=0, dirY=0, dirZ=1, placement='center', tolerance=0.0001)\n",
    "assert isinstance(Elp2, topologic.Wire), \"Wire.Ellipse. Should be topologic.Wire\"\n",
    "\n",
    "Elp3 = Wire.Ellipse(v2, 2, 3.5, 2.5, 0.866025, 0.866025, 1.0, 1, 16, 15, 270, 0,0,1, placement='lowerleft', tolerance= 0.0001)\n",
    "assert isinstance(Elp3, topologic.Wire), \"Wire.Ellipse. Should be topologic.Wire\""
   ]
  },
  {
   "cell_type": "code",
   "execution_count": null,
   "metadata": {},
   "outputs": [],
   "source": [
    "# def EllipseAll(origin=None, inputMode=1, width=2.0, length=1.0, focalLength=0.866025, eccentricity=0.866025, majorAxisLength=1.0, minorAxisLength=0.5, sides=32, fromAngle=0, toAngle=360, close=True, dirX=0, dirY=0, dirZ=1, placement='center', tolerance=0.0001)\n",
    "\n",
    "# case 1\n",
    "Elp3 = Wire.EllipseAll(v3, 3, 3, 7, 0.4, 0.6, 2.0, 1, 16)\n",
    "assert isinstance(Elp3, dict), \"Wire.Ellipse. Should be dictionary\"\n",
    "\n",
    "# case 2\n",
    "Elp4 = Wire.EllipseAll(origin=v3, width=2.5, length=5, sides=13, close=True, dirY=1, dirZ=0)\n",
    "assert isinstance(Elp4, dict), \"Wire.Ellipse. Should be dictionary\""
   ]
  },
  {
   "cell_type": "code",
   "execution_count": null,
   "metadata": {},
   "outputs": [],
   "source": [
    "# def IsClosed(wire)\n",
    "# Checking if wire closed or not\n",
    "\n",
    "# case 1\n",
    "Chk_W1 = Wire.IsClosed(w1)\n",
    "assert isinstance(Chk_W1, bool), \"Wire.Ellipse. Should be boolean\"\n",
    "\n",
    "# case 2\n",
    "Chk_W2 = Wire.IsClosed(w5)\n",
    "assert isinstance(Chk_W2, bool), \"Wire.Ellipse. Should be boolean\""
   ]
  },
  {
   "cell_type": "code",
   "execution_count": null,
   "metadata": {},
   "outputs": [],
   "source": [
    "# def IsSimilar(wireA, wireB, tolerance=0.0001, angTolerance=0.1)\n",
    "\n",
    "Rec1 = Wire.Rectangle(v1, 2, 3)\n",
    "Rec2 = Wire.Rectangle(v2, 2, 3)\n",
    "Rec3 = Wire.Rectangle(v3, 3, 2)\n",
    "\n",
    "# case 1\n",
    "Chk_W3 = Wire.IsSimilar(Rec1, Rec2)\n",
    "assert isinstance(Chk_W3, bool), \"Wire.IsSimilar. Should be boolean\"\n",
    "\n",
    "# case 2\n",
    "Chk_W4 = Wire.IsSimilar(Rec2,Rec3)\n",
    "assert isinstance(Chk_W4, bool), \"Wire.IsSimilar. Should be boolean\"\n",
    "\n",
    "# case 3\n",
    "Chk_W5 = Wire.IsSimilar(Rec1, Cir1)\n",
    "assert isinstance(Chk_W5, bool), \"Wire.IsSimilar. Should be boolean\"\n"
   ]
  },
  {
   "cell_type": "code",
   "execution_count": null,
   "metadata": {},
   "outputs": [
    {
     "name": "stdout",
     "output_type": "stream",
     "text": [
      "<topologic.Wire object at 0x0000023E6BD59F70>\n",
      "<topologic.Wire object at 0x0000023E6BD59670>\n",
      "<topologic.Wire object at 0x0000023E6BD59630>\n",
      "<topologic.Cluster object at 0x0000023E6BD595B0>\n"
     ]
    }
   ],
   "source": [
    "# def Isovist(viewPoint, externalBoundary, obstaclesCluster)\n",
    "# boundary Rectangle\n",
    "bRec = Wire.Rectangle(v1, 20, 20)\n",
    "\n",
    "# Vertices\n",
    "obV1 = Vertex.ByCoordinates(-1, 4, 0)\n",
    "obV2 = Vertex.ByCoordinates(-4, 1, 0)\n",
    "\n",
    "obV3 = Vertex.ByCoordinates(-4, -1, 0)\n",
    "obV4 = Vertex.ByCoordinates(-1, -4, 0)\n",
    "\n",
    "obV5 = Vertex.ByCoordinates(1, -4, 0)\n",
    "obV6 = Vertex.ByCoordinates(4, -1, 0)\n",
    "\n",
    "obV7 = Vertex.ByCoordinates(-4, 0, 0)\n",
    "obV8 = Vertex.ByCoordinates(0, -4, 0)\n",
    "obV9 = Vertex.ByCoordinates(4, 0, 0)\n",
    "obV10 = Vertex.ByCoordinates(0, 4, 0)\n",
    "\n",
    "# obstacles Wire\n",
    "obW1 = Wire.ByVertices([obV1, obV2, obV3])\n",
    "obW2 = Wire.ByVertices([obV4, obV5, obV6])\n",
    "\n",
    "obW3 = Wire.ByVertices([obV2, obV7, obV3])\n",
    "obW4 = Wire.ByVertices([obV4, obV8, obV5])\n",
    "obW5 = Wire.ByVertices([obV6, obV9, obV1])\n",
    "\n",
    "# obstaclesCluster\n",
    "ObsW_C1 = Cluster.ByTopologies([obW1, obW2])\n",
    "ObsW_C2 = Cluster.ByTopologies([obW3, obW4, obW5])\n",
    "\n",
    "# ObsW_C = Cluster.ByTopologies([(Wire.ByVertices((Vertex.ByCoordinates(-1, 4, 0), (Vertex.ByCoordinates(-4, 1, 0)),(Vertex.ByCoordinates(-4, -1, 0), (Vertex.ByCoordinates(-1, -4, 0)), ))))])\n",
    "\n",
    "# case 1\n",
    "isoV1 = Wire.Isovist(v1, bRec, ObsW_C1)\n",
    "assert isinstance(isoV1, list), \"Wire.Isovist. Should be list\"\n",
    "\n",
    "# case 2\n",
    "isoV2 = Wire.Isovist(v1, bRec, ObsW_C2)\n",
    "assert isinstance(isoV2, list), \"Wire.Isovist. Should be list\""
   ]
  },
  {
   "cell_type": "code",
   "execution_count": null,
   "metadata": {},
   "outputs": [],
   "source": [
    "# def Length(wire, mantissa=4)\n",
    "\n",
    "# case 1\n",
    "wLen1 = Wire.Length(w1, 2)\n",
    "assert isinstance(wLen1, float), \"Wire.Length. Should be float\"\n",
    "\n",
    "# case 2\n",
    "wLen2 = Wire.Length(w4, 6)\n",
    "assert isinstance(wLen2, float), \"Wire.Length. Should be float\""
   ]
  },
  {
   "cell_type": "code",
   "execution_count": null,
   "metadata": {},
   "outputs": [],
   "source": [
    "# def Planarize(wire)\n",
    "# npW = Nonplanar_Wire, pW = Planar_Wire\n",
    "\n",
    "npW1 = Wire.ByVertices([v1, v2, v3])\n",
    "npW2 = Wire.ByVertices([v6, v4, v3, v1])\n",
    "\n",
    "# case 1\n",
    "pW1 = Wire.Planarize(npW1)\n",
    "assert isinstance(pW1, topologic.Wire), \"Wire.Planarize. Should be topologic.Wire\"\n",
    "\n",
    "# case 2\n",
    "pW2 = Wire.Planarize(npW2)\n",
    "assert isinstance(npW2, topologic.Wire), \"Wire.Planarize. Should be topologic.Wire\"\n",
    "\n"
   ]
  },
  {
   "cell_type": "code",
   "execution_count": 13,
   "metadata": {},
   "outputs": [
    {
     "name": "stdout",
     "output_type": "stream",
     "text": [
      "<topologic.Wire object at 0x000001127AE75A70>\n"
     ]
    }
   ],
   "source": [
    "# def Project(wire, face, direction=None, mantissa=4, tolerance=0.0001)\n",
    "\n",
    "'''\n",
    "Incomplete\n",
    "'''\n",
    "p1 = Vertex.ByCoordinates(1, 1, 1)\n",
    "p2 = Vertex.ByCoordinates(0, 0, 1)\n",
    "p3 = Vertex.ByCoordinates(-1, -1, 1)\n",
    "f1 = Face.ByVertices([v5, v6, v7, v8])\n",
    "# print(f1)\n",
    "w6 = Wire.ByVertices([p1, p2, p3])\n",
    "# print(w6)\n",
    "Pro1 = Wire.Project(w6, f1, [0,0,1])\n",
    "\n",
    "print(Pro1)"
   ]
  },
  {
   "cell_type": "code",
   "execution_count": null,
   "metadata": {},
   "outputs": [],
   "source": [
    "# def Rectangle(origin=None, width=1.0, length=1.0, dirX=0, dirY=0, dirZ=1, placement='center', tolerance=0.0001)\n",
    "\n",
    "# case 1\n",
    "rec1 = Wire.Rectangle(v1, 4, 6)\n",
    "assert isinstance(rec1, topologic.Wire), \"Wire.Rectangle. Should be topologic.Wire\"\n",
    "\n",
    "# case 2\n",
    "rec2 = Wire.Rectangle(v2, 3, 7, 1, 0, 0)\n",
    "assert isinstance(rec2, topologic.Wire), \"Wire.Rectangle. Should be topologic.Wire\""
   ]
  },
  {
   "cell_type": "code",
   "execution_count": null,
   "metadata": {},
   "outputs": [
    {
     "ename": "AssertionError",
     "evalue": "Wire.RemoveCollinearEdges. Should be topologic.Wire",
     "output_type": "error",
     "traceback": [
      "\u001b[1;31m---------------------------------------------------------------------------\u001b[0m",
      "\u001b[1;31mAssertionError\u001b[0m                            Traceback (most recent call last)",
      "\u001b[1;32m<ipython-input-56-e68f288cdd98>\u001b[0m in \u001b[0;36m<module>\u001b[1;34m\u001b[0m\n\u001b[0;32m      7\u001b[0m \u001b[1;31m# case 1\u001b[0m\u001b[1;33m\u001b[0m\u001b[1;33m\u001b[0m\u001b[1;33m\u001b[0m\u001b[0m\n\u001b[0;32m      8\u001b[0m \u001b[0mce1\u001b[0m \u001b[1;33m=\u001b[0m \u001b[0mWire\u001b[0m\u001b[1;33m.\u001b[0m\u001b[0mRemoveCollinearEdges\u001b[0m\u001b[1;33m(\u001b[0m\u001b[0mcw1\u001b[0m\u001b[1;33m)\u001b[0m\u001b[1;33m\u001b[0m\u001b[1;33m\u001b[0m\u001b[0m\n\u001b[1;32m----> 9\u001b[1;33m \u001b[1;32massert\u001b[0m \u001b[0misinstance\u001b[0m\u001b[1;33m(\u001b[0m\u001b[0mce1\u001b[0m\u001b[1;33m,\u001b[0m \u001b[0mtopologic\u001b[0m\u001b[1;33m.\u001b[0m\u001b[0mWire\u001b[0m\u001b[1;33m)\u001b[0m\u001b[1;33m,\u001b[0m \u001b[1;34m\"Wire.RemoveCollinearEdges. Should be topologic.Wire\"\u001b[0m\u001b[1;33m\u001b[0m\u001b[1;33m\u001b[0m\u001b[0m\n\u001b[0m\u001b[0;32m     10\u001b[0m \u001b[1;33m\u001b[0m\u001b[0m\n\u001b[0;32m     11\u001b[0m \u001b[1;31m# case 2\u001b[0m\u001b[1;33m\u001b[0m\u001b[1;33m\u001b[0m\u001b[1;33m\u001b[0m\u001b[0m\n",
      "\u001b[1;31mAssertionError\u001b[0m: Wire.RemoveCollinearEdges. Should be topologic.Wire"
     ]
    }
   ],
   "source": [
    "# def RemoveCollinearEdges(wire, angTolerance=0.1)\n",
    "# cw = CollinearWire, ce = collinearEdge\n",
    "\n",
    "cw1 = Wire.ByVertices([v6, v1, v8])\n",
    "cw2 = Wire.ByVertices([v5, v1, v7])\n",
    "                                 \n",
    "# case 1\n",
    "ce1 = Wire.RemoveCollinearEdges(cw1)\n",
    "assert isinstance(ce1, topologic.Wire), \"Wire.RemoveCollinearEdges. Should be topologic.Wire\"\n",
    "\n",
    "# case 2\n",
    "ce2 = Wire.RemoveCollinearEdges(cw2)\n",
    "assert isinstance(ce2, topologic.Wire), \"Wire.RemoveCollinearEdges. Should be topologic.Wire\"\n",
    "\n",
    "\"\"\"\n",
    "Output gives topologic.Edge instead of topologic.Wire\n",
    "\"\"\""
   ]
  },
  {
   "cell_type": "code",
   "execution_count": null,
   "metadata": {},
   "outputs": [],
   "source": [
    "# def Split(wire)\n",
    "\n",
    "w7 = Wire.ByVertices([v5, v7, v8, v6])\n",
    "w8 = Wire.ByVertices([v8, v6, v7, v11, v12, v5])\n",
    "\n",
    "# case 1\n",
    "Spl1 = Wire.Split(w7)\n",
    "assert isinstance(Spl1, list), \"Wire.Split. Should be list\"\n",
    "\n",
    "# case 2\n",
    "Spl2 = Wire.Split(w8)\n",
    "assert isinstance(Spl2, list), \"Wire.Split. Should be list\""
   ]
  },
  {
   "cell_type": "code",
   "execution_count": null,
   "metadata": {},
   "outputs": [],
   "source": [
    "# def Star(origin=None, radiusA=1.0, radiusB=0.4, rays=5, dirX=0, dirY=0, dirZ=1, placement='center', tolerance=0.0001)\n",
    "\n",
    "# case 1\n",
    "s1 = Wire.Star(v3, 2, 5, 6, 1, 1, 1, 'lowerleft', 0.0001)\n",
    "assert isinstance(s1, topologic.Wire), \"Wire.Star. Should be topologic.Wire\"\n",
    "\n",
    "# case 2\n",
    "s2 = Wire.Star(origin=v4, radiusB=5, dirY=1)\n",
    "assert isinstance(s2, topologic.Wire), \"Wire.Star. Should be topologic.Wire\"\n"
   ]
  },
  {
   "cell_type": "code",
   "execution_count": null,
   "metadata": {},
   "outputs": [],
   "source": [
    "# def Trapezoid(origin=None, widthA=1.0, widthB=0.75, offsetA=0.0, offsetB=0.0, length=1.0, dirX=0, dirY=0, dirZ=1, placement='center', tolerance=0.0001)\n",
    "\n",
    "# case 1\n",
    "t1 = Wire.Trapezoid(v2, 1.2, 1, 0.5, .5, 1, 1, 0, 1, 'lowerleft', 0.0001)\n",
    "assert isinstance(t1, topologic.Wire), \"Wire.Trapezoid. Should be topologic.Wire\"\n",
    "\n",
    "# case 2\n",
    "t2 =Wire.Trapezoid(origin=v5, widthA=1.3, widthB=0.85, offsetA=0.8, offsetB=0.7, length=2.0, dirX=1, dirY=1, dirZ=1, placement='center', tolerance=0.0001)\n",
    "assert isinstance(t2, topologic.Wire), \"Wire.Trapezoid. Should be topologic.Wire\""
   ]
  },
  {
   "cell_type": "code",
   "execution_count": null,
   "metadata": {},
   "outputs": [],
   "source": [
    "# def Vertices(wire)\n",
    "# wv = wire_vertices\n",
    "\n",
    "# case 1\n",
    "wv1 = Wire.Vertices(w3)\n",
    "assert isinstance(wv1, list), \"Wire.Vertices. Should be list\"\n",
    "\n",
    "# case 2\n",
    "wv2 = Wire.Vertices(w6)\n",
    "assert isinstance(wv2, list), \"Wire.Vertices. Should be list\""
   ]
  },
  {
   "cell_type": "code",
   "execution_count": null,
   "metadata": {},
   "outputs": [],
   "source": []
  }
 ],
 "metadata": {
  "kernelspec": {
   "display_name": "base",
   "language": "python",
   "name": "python3"
  },
  "language_info": {
   "codemirror_mode": {
    "name": "ipython",
    "version": 3
   },
   "file_extension": ".py",
   "mimetype": "text/x-python",
   "name": "python",
   "nbconvert_exporter": "python",
   "pygments_lexer": "ipython3",
   "version": "3.8.8"
  },
  "orig_nbformat": 4,
  "vscode": {
   "interpreter": {
    "hash": "d5b2151f520895d96024011eb601ad3676c0bf65eeb3027d60d487339ca76817"
   }
  }
 },
 "nbformat": 4,
 "nbformat_minor": 2
}
