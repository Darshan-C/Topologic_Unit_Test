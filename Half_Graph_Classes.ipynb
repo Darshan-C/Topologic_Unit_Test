{
 "cells": [
  {
   "cell_type": "code",
   "execution_count": 167,
   "metadata": {},
   "outputs": [],
   "source": [
    "# Graph Clases"
   ]
  },
  {
   "cell_type": "code",
   "execution_count": 168,
   "metadata": {},
   "outputs": [],
   "source": [
    "import topologicpy\n",
    "import topologic\n",
    "from topologicpy.Vertex import Vertex\n",
    "from topologicpy.Edge import Edge\n",
    "from topologicpy.Cluster import Cluster\n",
    "from topologicpy.Wire import Wire\n",
    "from topologicpy.Face import Face\n",
    "from topologicpy.Shell import Shell\n",
    "from topologicpy.Cell import Cell\n",
    "from topologicpy.Graph import Graph"
   ]
  },
  {
   "cell_type": "code",
   "execution_count": 169,
   "metadata": {},
   "outputs": [],
   "source": [
    "# Object for test case\n",
    "v0 = Vertex.ByCoordinates(0, 0, 0)          # create vertex\n",
    "v1 = Vertex.ByCoordinates(0, 10, 0)         # create vertex\n",
    "v2 = Vertex.ByCoordinates(10, 10, 0)        # create vertex\n",
    "v3 = Vertex.ByCoordinates(10, 0, 0)         # create vertex\n",
    "v4 = Vertex.ByCoordinates(0, 0, 10)         # create vertex\n",
    "v5 = Vertex.ByCoordinates(0, 10, 10)        # create vertex\n",
    "v6 = Vertex.ByCoordinates(10, 10, 10)       # create vertex\n",
    "v7 = Vertex.ByCoordinates(10, 0, 10)        # create vertex\n",
    "v8 = Vertex.ByCoordinates(5,8,0)\n",
    "\n",
    "\n",
    "wire0 = Wire.ByVertices([v0,v1,v2])         # create wire\n",
    "wire1 = Wire.ByVertices([v4,v5,v6])         # create wire\n",
    "w_list = [wire0,wire1]                      # create list\n",
    "w_cluster = Cluster.ByTopologies(w_list)    # create cluster\n",
    "face0 = Face.ByVertices([v0,v1,v2,v3,v0])     # create face\n",
    "face1 = Face.ByVertices([v4,v5,v6,v7,v4])     # create face\n",
    "face2 = Face.ByVertices([v0,v4,v7,v3,v0])     # create face\n",
    "face3 = Face.ByVertices([v3,v7,v6,v2,v3])     # create face\n",
    "face4 = Face.ByVertices([v2,v6,v5,v1,v2])     # create face\n",
    "face5 = Face.ByVertices([v1,v5,v4,v0,v1])     # create face\n",
    "f_list = [face0,face1,face2,face3,face4,face5]  # create list\n",
    "c_faces = Cluster.ByTopologies(f_list)          # create cluster\n",
    "shell_f = Shell.ByFaces(f_list)                 # create shell\n",
    "shell_open = Shell.ByFaces([face0])       # create shell\n",
    "e0 = Edge.ByStartVertexEndVertex(v0,v1)\n",
    "e1 = Edge.ByStartVertexEndVertex(v0,v2)\n",
    "e2 = Edge.ByStartVertexEndVertex(v3,v0)\n",
    "e3 = Edge.ByStartVertexEndVertex(v0,v4)\n",
    "e4 = Edge.ByStartVertexEndVertex(v1,v2)\n",
    "e5 = Edge.ByStartVertexEndVertex(v1,v3)\n",
    "e6 = Edge.ByStartVertexEndVertex(v2,v3)\n",
    "\n",
    "list_v1 = [v0,v1,v2,v3,v4]\n",
    "list_v2 = [v0, v1, v2, v3]\n",
    "list_e1 = [e0,e1,e2,e3]\n",
    "list_e2 = [e0, e4, e6, e2, e1]\n",
    "list_v1 = [v5,v6,v7]\n",
    "\n",
    "# Creating graphs for test\n",
    "graph_ve1 = Graph.ByVerticesEdges(list_v1,list_e1)\n",
    "graph_ve2 = Graph.ByVerticesEdges(list_v2,list_e2)\n",
    "\n",
    "graph_ae1 = Graph.AddEdge(graph_ve1, e4)\n",
    "graph_ae2 = Graph.AddEdge(graph_ve1, e4, tolerance=0.001)\n",
    "\n",
    "graph_av1 = Graph.AddVertex(graph_ve1, v5)\n",
    "graph_av2 = Graph.AddVertex(graph_ve1, v5, tolerance=0.001)\n",
    "graph_avs1 = Graph.AddVertices(graph_ve1, list_v1)\n",
    "graph_avs2 = Graph.AddVertices(graph_ve1, list_v1, tolerance=0.001)"
   ]
  },
  {
   "cell_type": "code",
   "execution_count": 170,
   "metadata": {},
   "outputs": [],
   "source": [
    "# def IsComplete(graph)\n",
    "\"\"\" \n",
    "How to make complete graph\n",
    "\"\"\"\n",
    "\n",
    "chk_G1 = Graph.IsComplete(graph_ve1)\n",
    "assert isinstance(chk_G1, bool), \"Graph.IsComplete. Should be bool\"\n",
    "\n",
    "chk_G2 = Graph.IsComplete(graph_ve2)\n",
    "assert isinstance(chk_G2, bool), \"Graph.IsComplete. Should be bool\"\n",
    "\n"
   ]
  },
  {
   "cell_type": "code",
   "execution_count": 171,
   "metadata": {},
   "outputs": [
    {
     "name": "stdout",
     "output_type": "stream",
     "text": [
      "False\n",
      "True\n"
     ]
    }
   ],
   "source": [
    "# def IsErdoesGallai(graph, sequence)\n",
    "\"\"\" \n",
    "Def not clear \n",
    "\"\"\"\n",
    "\n",
    "chkG3 = Graph.IsErdoesGallai(graph_ve1, [1,3, 5])\n",
    "print(chkG3)\n",
    "\n",
    "chkG4 = Graph.IsErdoesGallai(graph_ve2, [])\n",
    "print(chkG4)"
   ]
  },
  {
   "cell_type": "code",
   "execution_count": 172,
   "metadata": {},
   "outputs": [],
   "source": [
    "# def IsolatedVertices(graph)\n",
    "\n",
    "# case 1\n",
    "graphIV1 = Graph.IsolatedVertices(graph_ve1)\n",
    "assert isinstance(graphIV1, list), \"Graph.IsolatedVertices. Should be list\"\n",
    "\n",
    "# case 2\n",
    "graphIV2 = Graph.IsolatedVertices(graph_ae2)\n",
    "assert isinstance(graphIV1, list), \"Graph.IsolatedVertices. Should be list\""
   ]
  },
  {
   "cell_type": "code",
   "execution_count": 173,
   "metadata": {},
   "outputs": [],
   "source": [
    "# def MaximumDelta(graph)\n",
    "\n",
    "# case 1\n",
    "graphMaxD1 = Graph.MaximumDelta(graph_ve2)\n",
    "assert isinstance(graphMaxD1, int), \"Graph.IsolatedVertices. Should be integer\"\n",
    "\n",
    "# case 2\n",
    "graphMaxD2 = Graph.MaximumDelta(graph_ae2)\n",
    "assert isinstance(graphMaxD2, int), \"Graph.IsolatedVertices. Should be integer\""
   ]
  },
  {
   "cell_type": "code",
   "execution_count": 174,
   "metadata": {},
   "outputs": [],
   "source": [
    "# def MinimumDelta(graph)\n",
    "\n",
    "# case 1\n",
    "graphMinD1 = Graph.MinimumDelta(graph_ve2)\n",
    "assert isinstance(graphMinD1, int), \"Graph.IsolatedVertices. Should be integer\"\n",
    "\n",
    "# case 2\n",
    "graphMinD2 = Graph.MinimumDelta(graph_avs1)\n",
    "assert isinstance(graphMinD2, int), \"Graph.IsolatedVertices. Should be integer\""
   ]
  },
  {
   "cell_type": "code",
   "execution_count": 175,
   "metadata": {},
   "outputs": [],
   "source": [
    "# def MinimumSpanningTree(graph, edgeKey=None, tolerance=0.0001)~\n"
   ]
  },
  {
   "cell_type": "code",
   "execution_count": 176,
   "metadata": {},
   "outputs": [],
   "source": [
    "# def NearestVertex(graph, vertex)\n",
    "\n",
    "# case 1\n",
    "graphNV1 = Graph.NearestVertex(graph_ve1, v8)\n",
    "assert isinstance(graphNV1, topologic.Vertex), \"Graph.NearestVertex. Should be topologic.Vertex\"\n",
    "\n",
    "# case 2\n",
    "graphNV2 = Graph.NearestVertex(graph_ve2, v6)\n",
    "assert isinstance(graphNV2, topologic.Vertex), \"Graph.NearestVertex. Should be topologic.Vertex\""
   ]
  },
  {
   "cell_type": "code",
   "execution_count": 177,
   "metadata": {},
   "outputs": [],
   "source": [
    "# def Order(graph)\n",
    "\n",
    "# case 1\n",
    "graphO1 = Graph.Order(graph_ae1)\n",
    "assert isinstance(graphO1, int), \"Graph.Order. Should be integer\"\n",
    "\n",
    "# case 2\n",
    "graphO2 = Graph.Order(graph_ve2)\n",
    "assert isinstance(graphO1, int), \"Graph.Order. Should be integer\""
   ]
  },
  {
   "cell_type": "code",
   "execution_count": 178,
   "metadata": {},
   "outputs": [],
   "source": [
    "# def Path(graph, vertexA, vertexB)"
   ]
  },
  {
   "cell_type": "code",
   "execution_count": 179,
   "metadata": {},
   "outputs": [],
   "source": [
    "# def RemoveEdge(graph, edge, tolerance=0.0001)"
   ]
  },
  {
   "cell_type": "code",
   "execution_count": 180,
   "metadata": {},
   "outputs": [],
   "source": [
    "# def RemoveVertex(graph, vertex, tolerance=0.0001)"
   ]
  },
  {
   "cell_type": "code",
   "execution_count": 181,
   "metadata": {},
   "outputs": [],
   "source": [
    "# def ShortestPath(graph, vertexA, vertexB, vertexKey=None, edgeKey='Length')"
   ]
  },
  {
   "cell_type": "code",
   "execution_count": 182,
   "metadata": {},
   "outputs": [],
   "source": [
    "# def ShortestPaths(graph, vertexA, vertexB, vertexKey=None, edgeKey='length', timeLimit=10, pathLimit=10, tolerance=0.0001)"
   ]
  },
  {
   "cell_type": "code",
   "execution_count": 183,
   "metadata": {},
   "outputs": [],
   "source": [
    "# def Size(graph)\n",
    "\n",
    "# case 1\n",
    "graphS1 = Graph.Size(graph_ae2)\n",
    "assert isinstance(graphS1, int), \"Graph.Size. Should be integer\"\n",
    "\n",
    "# case 2\n",
    "graphS2 = Graph.Size(graph_av1)\n",
    "assert isinstance(graphS2, int), \"Graph.Size. Should be integer\""
   ]
  },
  {
   "cell_type": "code",
   "execution_count": 184,
   "metadata": {},
   "outputs": [],
   "source": [
    "# def TopologicalDistance(graph, vertexA, vertexB, tolerance=0.0001)"
   ]
  },
  {
   "cell_type": "code",
   "execution_count": 185,
   "metadata": {},
   "outputs": [],
   "source": [
    "# def Topology(graph)\n",
    "\n",
    "# case 1\n",
    "graphTo1 = Graph.Topology(graph_ae2)\n",
    "assert isinstance (graphTo1, topologic.Cluster)\n",
    "\n",
    "# case 2\n",
    "graphTo2 = Graph.Topology(graph_avs1)\n",
    "assert isinstance (graphTo2, topologic.Cluster)"
   ]
  },
  {
   "cell_type": "code",
   "execution_count": 186,
   "metadata": {},
   "outputs": [],
   "source": [
    "# def Tree(graph, vertex=None, tolerance=0.0001)\n",
    "\n",
    "\"\"\"\n",
    "Not sure\n",
    "\"\"\"\n",
    "# case 1\n",
    "graphTr1 = Graph.Tree(graph_ve1, v8, 0.0001)\n",
    "assert isinstance(graphTr1, topologic.Graph), \"Graph.Tree. Should be topologic.Graph\"\n",
    "\n",
    "# case 2\n",
    "graphTr2 = Graph.Tree(graph_ve2, v6, 0.0001)\n",
    "assert isinstance(graphTr1, topologic.Graph), \"Graph.Tree. Should be topologic.Graph\""
   ]
  },
  {
   "cell_type": "code",
   "execution_count": 187,
   "metadata": {},
   "outputs": [
    {
     "name": "stdout",
     "output_type": "stream",
     "text": [
      "0\n"
     ]
    }
   ],
   "source": [
    "# def VertexDegree(graph, vertex)\n",
    "v9 = Vertex.ByCoordinates(-10, -10, -10)\n",
    "# case 1\n",
    "graphVD1 = Graph.VertexDegree(graph_ve2, v0)\n",
    "assert isinstance(graphVD1, int), \"Graph.VertexDegree. Should be integer\"\n",
    "\n",
    "# case 2\n",
    "graphVD2 = Graph.VertexDegree(graph_ve2, v9)\n",
    "assert isinstance(graphVD1, int), \"Graph.VertexDegree. Should be integer\"\n",
    "\n",
    "print(graphVD2)"
   ]
  },
  {
   "cell_type": "code",
   "execution_count": 188,
   "metadata": {},
   "outputs": [],
   "source": [
    "# def Vertices(graph)\n",
    "\n",
    "# case 1\n",
    "graphV1 = Graph.Vertices(graph_ve1)\n",
    "assert isinstance(graphV1, list), \"Graph.Vertices. Should be list\"\n",
    "\n",
    "# case 2\n",
    "graphV2 = Graph.Vertices(graph_ae2)\n",
    "assert isinstance(graphV2, list), \"Graph.Vertices. Should be list\""
   ]
  },
  {
   "cell_type": "code",
   "execution_count": 189,
   "metadata": {},
   "outputs": [],
   "source": [
    "# def VisibilityGraph(boundary, obstaclesCluster, tolerance=0.0001)\n",
    "\n",
    "# graphVG1 = "
   ]
  }
 ],
 "metadata": {
  "kernelspec": {
   "display_name": "base",
   "language": "python",
   "name": "python3"
  },
  "language_info": {
   "codemirror_mode": {
    "name": "ipython",
    "version": 3
   },
   "file_extension": ".py",
   "mimetype": "text/x-python",
   "name": "python",
   "nbconvert_exporter": "python",
   "pygments_lexer": "ipython3",
   "version": "3.8.8 (default, Apr 13 2021, 15:08:03) [MSC v.1916 64 bit (AMD64)]"
  },
  "orig_nbformat": 4,
  "vscode": {
   "interpreter": {
    "hash": "d5b2151f520895d96024011eb601ad3676c0bf65eeb3027d60d487339ca76817"
   }
  }
 },
 "nbformat": 4,
 "nbformat_minor": 2
}
